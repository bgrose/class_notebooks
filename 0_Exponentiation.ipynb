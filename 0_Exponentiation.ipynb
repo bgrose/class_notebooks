{
 "cells": [
  {
   "cell_type": "markdown",
   "metadata": {
    "slideshow": {
     "slide_type": "slide"
    }
   },
   "source": [
    "# Setup\n",
    "- Install some basic Jupyter notebook environment, for Python 3. Easy in Linux. \n",
    "    - Consider Anaconda in Windows and Mac, though it uses a substatial amount of space.\n",
    "    - If you cannot, then you can still view the notebooks online through a link in the course.\n",
    "        - Notebooks will display mostly correctly as HTML (a few things do not)\n",
    "        - This is one of the reasons I like these for smaller examples\n",
    "- Install python-graphviz"
   ]
  },
  {
   "cell_type": "markdown",
   "metadata": {
    "slideshow": {
     "slide_type": "slide"
    }
   },
   "source": [
    "# Exponentiation Examples for different strategies\n",
    "## Purpose:\n",
    "1. To demonstrate different strategies for a relatively simple problem\n",
    "    - Not all strategies \"yield\" improvement over the Brute Force approach, and probably make them less efficient due to extra complexity (recursive calls, extra space, etc.)\n",
    "    - But an algorithm design strategy, even if ineffective, allows you to look at the problem differently and may reveal a better approach\n",
    "1. To get you used to basic Python Syntax, as most of you have not spent much or any time with it. This will be quite useful for me to generate additional examples where I don't think a C++ version is particularly helpful. Python is:\n",
    "    - \\+ Readable, typically easy to read for those with an imperative language background (C,C++,Java)\n",
    "    - \\+ Writable, easy to write\n",
    "        - \\+ white space sensitive: good for *readability*\n",
    "        - \\- white space sensitive: tends to be rough when coming from C-style languages (C, C++, Java) at first\n",
    "        - \\+ good, extensive libraries for many varied tasks\n",
    "            - used for deep learning libraries, data visualization (often in Jupyter notebooks), etc.\n",
    "            - also a very helpful tool for programming tasks, like manipulating folders, etc.\n",
    "    - \\+ has useful data structures *without including libraries* such as lists (__[like Java ArrayList, C++ vector](https://en.wikipedia.org/wiki/Dynamic_array)__), which are really interesting data structures in their own right and will likely be covered at some point, and **dict**ionaries (hash tables)\n",
    "1. To get you used to basic Jupyter notebook usage. This is a great way for me to share code/examples with you. __[(command cheat sheet)](https://www.edureka.co/blog/wp-content/uploads/2018/10/Jupyter_Notebook_CheatSheet_Edureka.pdf)__\n",
    "1. This is a general review of \n",
    "    - CSCE 146 topics, like $O(\\cdot),\\Theta(\\cdot)$ notation\n",
    "    - a few Math symbols\n",
    "        "
   ]
  },
  {
   "cell_type": "markdown",
   "metadata": {
    "slideshow": {
     "slide_type": "slide"
    }
   },
   "source": [
    "## Brute Force\n",
    "The definition of **brute force** we are using here is the \"straight forward/from the defintion\" (of exponentiation) one, and not the \"exhaustive search\" definition."
   ]
  },
  {
   "cell_type": "code",
   "execution_count": 1,
   "metadata": {},
   "outputs": [],
   "source": [
    "def print_no_nl(s):\n",
    "    \"\"\"\n",
    "    Prints input as string without newline\n",
    "    Input: something printable, will be converted to string, if not already\n",
    "    (this is just a little helper function)\n",
    "    \"\"\"\n",
    "    print(str(s),end='')\n",
    "\n",
    "def bf_exponentation(a, p): # function definition\n",
    "    \"\"\"\n",
    "    Brute Force Exponentiation\n",
    "    a -- the number being raised to a power\n",
    "    p -- the non-negative, integral power a is being raised to\n",
    "    \"\"\"\n",
    "    power = 1 \n",
    "    print_no_nl(1) \n",
    "    while p > 0:\n",
    "        power = power * a\n",
    "        p = p-1\n",
    "        print_no_nl(\"*\" + str(a))\n",
    "    \n",
    "    return power\n",
    "    "
   ]
  },
  {
   "cell_type": "code",
   "execution_count": 3,
   "metadata": {},
   "outputs": [
    {
     "output_type": "stream",
     "name": "stdout",
     "text": [
      "1*10*10"
     ]
    },
    {
     "output_type": "execute_result",
     "data": {
      "text/plain": [
       "100"
      ]
     },
     "metadata": {},
     "execution_count": 3
    }
   ],
   "source": [
    "bf_exponentation(10,2)"
   ]
  },
  {
   "cell_type": "code",
   "execution_count": null,
   "metadata": {},
   "outputs": [],
   "source": [
    "bf_exponentation(2,10)"
   ]
  },
  {
   "cell_type": "markdown",
   "metadata": {},
   "source": [
    "Also, a reminder that $2^{10} \\approx 10^3$\n",
    "- great to remember that when working with binary and you need to actually do calculations, approximately, which may occasionally come up in class, though more often in networking (CSCE 416), maybo OS (CSCE 311), and hardware courses \n",
    "- e.g. $2^{23}=2^3\\times 2^{10} \\times 2^{10} \\approx 2^3 \\times 10^6 = 8 000 000 $ \n",
    "- (oh, and I can do $\\LaTeX$ in Jupyter notebooks too... forgot about that, which is *great* for Chapter 2) "
   ]
  },
  {
   "cell_type": "code",
   "execution_count": null,
   "metadata": {},
   "outputs": [],
   "source": [
    "bf_exponentation(5,1)"
   ]
  },
  {
   "cell_type": "code",
   "execution_count": null,
   "metadata": {},
   "outputs": [],
   "source": [
    "bf_exponentation(25,0)"
   ]
  },
  {
   "cell_type": "markdown",
   "metadata": {},
   "source": [
    "What's *missing* so far, versus Java/C++?"
   ]
  },
  {
   "cell_type": "markdown",
   "metadata": {},
   "source": [
    "**Types** are missing, as in declaring your types for **static** (compile-time) type checking like in Java/C++\n",
    "- Python *does* do type checking, but it is **dynamically** typed, meaning it is checking at runtime; Python's type system is also described as \"duck typing\"\n",
    "    - \\+ Do not have to declare types in code (if the functions/operators work and exist, the code will run)\n",
    "    - \\+ Do not have to do templates (generic programming as in C++/Java)\n",
    "    - \\- Can be bad if your code runs for days before hitting problem code and crashing out, e.g. in deep learning\n",
    "    - (we will see some C++ examples using the **auto** keyword that offer a third option -- type inference)\n",
    "- So, we can use the above code to do stuff like"
   ]
  },
  {
   "cell_type": "code",
   "execution_count": null,
   "metadata": {},
   "outputs": [],
   "source": [
    "bf_exponentation(0.5,3)"
   ]
  },
  {
   "cell_type": "markdown",
   "metadata": {},
   "source": [
    "In case you're paranoid there's some formatting trickery, like displaying 1.0 as \"1\", here you go:"
   ]
  },
  {
   "cell_type": "code",
   "execution_count": 4,
   "metadata": {},
   "outputs": [
    {
     "output_type": "stream",
     "name": "stdout",
     "text": [
      "1*0.5*0.5*0.5"
     ]
    },
    {
     "output_type": "execute_result",
     "data": {
      "text/plain": [
       "float"
      ]
     },
     "metadata": {},
     "execution_count": 4
    }
   ],
   "source": [
    "type(bf_exponentation(0.5,3))"
   ]
  },
  {
   "cell_type": "code",
   "execution_count": null,
   "metadata": {},
   "outputs": [],
   "source": [
    "type(bf_exponentation(2,3))"
   ]
  },
  {
   "cell_type": "markdown",
   "metadata": {},
   "source": [
    "## Decrease-by-a-*Constant*(-and-Conquer)\n",
    "- Constant here, and typically, is just $1$\n",
    "- This maps to a recursive approach, e.g."
   ]
  },
  {
   "cell_type": "markdown",
   "metadata": {},
   "source": [
    " $3^4 = 3\\times 3^3$\n",
    " \n",
    "  $= 3\\times 3\\times 3^2$\n",
    "  \n",
    "  $= 3\\times 3\\times 3\\times 3^1$\n",
    "  \n",
    "  $= 3\\times 3\\times 3\\times 3\\times 3^0$"
   ]
  },
  {
   "cell_type": "markdown",
   "metadata": {},
   "source": [
    "Or, more generally,\n",
    "\n",
    "$  a^p = \\begin{cases} a\\times a^{p-1} & p>0 \\\\ 1 & p=0 \\end{cases} $"
   ]
  },
  {
   "cell_type": "markdown",
   "metadata": {},
   "source": [
    "Defining recursively:"
   ]
  },
  {
   "cell_type": "code",
   "execution_count": 19,
   "metadata": {},
   "outputs": [],
   "source": [
    "def recursive_exponentiation(a,p):\n",
    "    \"\"\"\n",
    "    Decrease by a constant and conquer, basic recursive approach to exponentiation\n",
    "    a -- the number being raised to a power\n",
    "    p -- the non-negative, integral power a is being raised to\n",
    "    \"\"\"\n",
    "    if p == 0:\n",
    "        print_no_nl(1)\n",
    "        return 1\n",
    "    else:         \n",
    "        print_no_nl(str(a)+\"*(\")\n",
    "        \n",
    "        a_to_p_minus_1 = recursive_exponentiation(a,p-1)\n",
    "        \n",
    "        print_no_nl(\")\")\n",
    "        return a*a_to_p_minus_1"
   ]
  },
  {
   "cell_type": "code",
   "execution_count": 20,
   "metadata": {},
   "outputs": [
    {
     "output_type": "error",
     "ename": "NameError",
     "evalue": "name 'print_no_nl' is not defined",
     "traceback": [
      "\u001b[1;31m---------------------------------------------------------------------------\u001b[0m",
      "\u001b[1;31mNameError\u001b[0m                                 Traceback (most recent call last)",
      "\u001b[1;32m<ipython-input-20-2c74d5c1e5b8>\u001b[0m in \u001b[0;36m<module>\u001b[1;34m\u001b[0m\n\u001b[1;32m----> 1\u001b[1;33m \u001b[0mrecursive_exponentiation\u001b[0m\u001b[1;33m(\u001b[0m\u001b[1;36m3\u001b[0m\u001b[1;33m,\u001b[0m\u001b[1;36m4\u001b[0m\u001b[1;33m)\u001b[0m\u001b[1;33m\u001b[0m\u001b[1;33m\u001b[0m\u001b[0m\n\u001b[0m",
      "\u001b[1;32m<ipython-input-19-e7be8ef552e2>\u001b[0m in \u001b[0;36mrecursive_exponentiation\u001b[1;34m(a, p)\u001b[0m\n\u001b[0;32m      9\u001b[0m         \u001b[1;32mreturn\u001b[0m \u001b[1;36m1\u001b[0m\u001b[1;33m\u001b[0m\u001b[1;33m\u001b[0m\u001b[0m\n\u001b[0;32m     10\u001b[0m     \u001b[1;32melse\u001b[0m\u001b[1;33m:\u001b[0m\u001b[1;33m\u001b[0m\u001b[1;33m\u001b[0m\u001b[0m\n\u001b[1;32m---> 11\u001b[1;33m         \u001b[0mprint_no_nl\u001b[0m\u001b[1;33m(\u001b[0m\u001b[0mstr\u001b[0m\u001b[1;33m(\u001b[0m\u001b[0ma\u001b[0m\u001b[1;33m)\u001b[0m\u001b[1;33m+\u001b[0m\u001b[1;34m\"*(\"\u001b[0m\u001b[1;33m)\u001b[0m\u001b[1;33m\u001b[0m\u001b[1;33m\u001b[0m\u001b[0m\n\u001b[0m\u001b[0;32m     12\u001b[0m \u001b[1;33m\u001b[0m\u001b[0m\n\u001b[0;32m     13\u001b[0m         \u001b[0ma_to_p_minus_1\u001b[0m \u001b[1;33m=\u001b[0m \u001b[0mrecursive_exponentiation\u001b[0m\u001b[1;33m(\u001b[0m\u001b[0ma\u001b[0m\u001b[1;33m,\u001b[0m\u001b[0mp\u001b[0m\u001b[1;33m-\u001b[0m\u001b[1;36m1\u001b[0m\u001b[1;33m)\u001b[0m\u001b[1;33m\u001b[0m\u001b[1;33m\u001b[0m\u001b[0m\n",
      "\u001b[1;31mNameError\u001b[0m: name 'print_no_nl' is not defined"
     ]
    }
   ],
   "source": [
    "recursive_exponentiation(3,4)"
   ]
  },
  {
   "cell_type": "markdown",
   "metadata": {},
   "source": [
    "Well, is this any good?"
   ]
  },
  {
   "cell_type": "markdown",
   "metadata": {},
   "source": [
    "From an implementation standpoint, probably *not*. Why?\n",
    "- Well, we are going to make a bunch of recursive calls.\n",
    "- Recursive calls are going to be more expensive than looping (iteration)\n",
    "    - a recursive function call is more expensive in *time* and *space* than iteration, generally, because\n",
    "        - updating the counter variable and jumping is going to be quicker than making a new stack frame and returning from it, but this is not a big deal here since they are \"merely\" $O(1)$, a constant, amount of extra time (a simple factor difference of one another)\n",
    "        - the basic recursive approach also needs $O(p)$ extra space because there will be $p+1$ total calls on the stack, i.e.\n",
    "            - the initial call\n",
    "            - and $p$ recursive calls, down to $0$\n",
    "            - none of the calls *pop off the stack* until the \"base case\", $p=0$ case, is hit. (*When* recursive calls \"pop off the stack\" is important to remember when we look at some other strategies, in particular Divide and Conquer). \n",
    "        - This difference *may* be obviated by tail call optimization, depending on\n",
    "            - how you wrote the code\n",
    "            - your compiler and optimization level\n",
    "            - ... but pessimists are rarely disappointed\n",
    "            - (note the iterative version above \"accumulates\" the partial solution in the variable power, which is part of the solution for trickier tail call optimization)\n",
    "\n",
    "\n",
    "\n"
   ]
  },
  {
   "cell_type": "markdown",
   "metadata": {},
   "source": [
    "\\* \"not a big deal\" because we are generally only concerned with non-constant differences between algorithms, e.g. $O(\\log n)$ vs. $O(n)$ vs. $O(n \\log n)$ etc... . We worry about the constant time differences, generally, *only* when we have algorithms of the *same* order of growth, the algorithms have the same \"Big-O\", worst case or average case.\n",
    "\n",
    "I'll harp in this with chapter 2, but one rule of thumb is to \n",
    "> Always pick the most efficient asymptotic growth algorithm algorithm if there is *any* question what the input size will be (or if it can possibly change).\n",
    "\n",
    "A *constant* time difference of even $10$ will not be noticed before the difference between $O(n \\log n)$ and $O(n^2)$ on even modest size inputs, like say a $n=10^6=\\text{\"one million\"}\\approx 2^{20}$. \n"
   ]
  },
  {
   "cell_type": "markdown",
   "metadata": {},
   "source": [
    "Incidentally, the base on logarithms for most algorithms is generally $2$, i.e., $\\log_2 n$ because we generally split in *half*, but that does not matter (proven with chapter 2 limits, e.g. $f(n) = log_2 n, f(n) \\in \\Theta(log_{10} n)$ ), so we can fudge the numbers a bit and just point out that\n",
    "- $n^2=(10^6)^2=10^{12}=1,000,000,000,000$\n",
    "- $n \\log_2 n = 10^6 \\times \\log_2 10^6 \\approx 10^6 \\times \\log_2 2^{20} = 10^6 \\times 20 = 20,000,000$\n",
    "- \"fudge\" here means we will \"ignore the constants\"\n",
    "- \"does not matter\" means to \"within a constant\" again, $O(1)$ difference\n",
    "- Remember: Exponentiation and logarithms are *inverses* of one another, a very relevant fact in this class.\n",
    "- Remember: $f(n) \\in \\Theta(g(n ))$ means $f(n)$ and $g(n)$ have the same **order of growth**, they grow within a constant of one another *asymptotically* (\"as $n$ goes to infinity\" or, informally, \"on large input sizes\").\n",
    "- Do not worry if you forgot or did not quite get this in CSCE 146, we will review this carefully with chapter 2, soon."
   ]
  },
  {
   "cell_type": "markdown",
   "metadata": {},
   "source": [
    "Let's look at an output again:"
   ]
  },
  {
   "cell_type": "code",
   "execution_count": null,
   "metadata": {},
   "outputs": [],
   "source": [
    "recursive_exponentiation(3,4)"
   ]
  },
  {
   "cell_type": "markdown",
   "metadata": {},
   "source": [
    "Okay, from a theoretical standpoint, did the the Decrease-by-a-Constant-and-Conquer approach help us?\n",
    "\n",
    "It might, if you look at the explicit parethesization and you remember the associative property of multiplication, basically meaning we can do the multiplications in any order (by \"moving the parentheses\"). So, maybe we try a Divide and Conquer Approach, and solve it like this:\n",
    "\n",
    "$3^4 = (3^2)*(3^2) = ((3^1)*(3^1))*((3^1)*(3^1)) = 81$\n",
    "\n",
    "or, more generally,\n",
    "\n",
    "$a^p = \\begin{cases} a^{\\lceil \\frac{p}{2} \\rceil}\\times a^{\\lfloor \\frac{p}{2} \\rfloor} & p>1 \\\\ a & p =1 \\\\ 1 &p =0 \\end{cases} $"
   ]
  },
  {
   "cell_type": "code",
   "execution_count": 14,
   "metadata": {},
   "outputs": [],
   "source": [
    "import math\n",
    "\n",
    "def divide_and_conq_exponentiation(a,p):\n",
    "    \"\"\"\n",
    "    Divide and conquer, basic recursive approach to exponentiation\n",
    "    a -- the number being raised to a power\n",
    "    p -- the non-negative, integral power a is being raised to\n",
    "    \"\"\"\n",
    "    if p > 1:\n",
    "        print_no_nl(\"(\")\n",
    "        a_to_ceiling_half_p = divide_and_conq_exponentiation(a,math.ceil(p/2))\n",
    "        print_no_nl(\")*(\")\n",
    "        a_to_floor_half_p = divide_and_conq_exponentiation(a,math.floor(p/2))\n",
    "        print_no_nl(\")\")\n",
    "        return a_to_ceiling_half_p * a_to_floor_half_p\n",
    "    elif p == 1:\n",
    "        print_no_nl(a)\n",
    "        return a\n",
    "    elif p == 0:\n",
    "        print_no_nl(1)\n",
    "        return 1\n",
    "    else:         \n",
    "        raise Exception(\"p must be integral and nonnegative\")"
   ]
  },
  {
   "cell_type": "code",
   "execution_count": 15,
   "metadata": {},
   "outputs": [
    {
     "output_type": "error",
     "ename": "NameError",
     "evalue": "name 'print_no_nl' is not defined",
     "traceback": [
      "\u001b[1;31m---------------------------------------------------------------------------\u001b[0m",
      "\u001b[1;31mNameError\u001b[0m                                 Traceback (most recent call last)",
      "\u001b[1;32m<ipython-input-15-3106baa66459>\u001b[0m in \u001b[0;36m<module>\u001b[1;34m\u001b[0m\n\u001b[1;32m----> 1\u001b[1;33m \u001b[0mdivide_and_conq_exponentiation\u001b[0m\u001b[1;33m(\u001b[0m\u001b[1;36m3\u001b[0m\u001b[1;33m,\u001b[0m\u001b[1;36m4\u001b[0m\u001b[1;33m)\u001b[0m\u001b[1;33m\u001b[0m\u001b[1;33m\u001b[0m\u001b[0m\n\u001b[0m",
      "\u001b[1;32m<ipython-input-14-9f65742ce12e>\u001b[0m in \u001b[0;36mdivide_and_conq_exponentiation\u001b[1;34m(a, p)\u001b[0m\n\u001b[0;32m      8\u001b[0m     \"\"\"\n\u001b[0;32m      9\u001b[0m     \u001b[1;32mif\u001b[0m \u001b[0mp\u001b[0m \u001b[1;33m>\u001b[0m \u001b[1;36m1\u001b[0m\u001b[1;33m:\u001b[0m\u001b[1;33m\u001b[0m\u001b[1;33m\u001b[0m\u001b[0m\n\u001b[1;32m---> 10\u001b[1;33m         \u001b[0mprint_no_nl\u001b[0m\u001b[1;33m(\u001b[0m\u001b[1;34m\"(\"\u001b[0m\u001b[1;33m)\u001b[0m\u001b[1;33m\u001b[0m\u001b[1;33m\u001b[0m\u001b[0m\n\u001b[0m\u001b[0;32m     11\u001b[0m         \u001b[0ma_to_ceiling_half_p\u001b[0m \u001b[1;33m=\u001b[0m \u001b[0mdivide_and_conq_exponentiation\u001b[0m\u001b[1;33m(\u001b[0m\u001b[0ma\u001b[0m\u001b[1;33m,\u001b[0m\u001b[0mmath\u001b[0m\u001b[1;33m.\u001b[0m\u001b[0mceil\u001b[0m\u001b[1;33m(\u001b[0m\u001b[0mp\u001b[0m\u001b[1;33m/\u001b[0m\u001b[1;36m2\u001b[0m\u001b[1;33m)\u001b[0m\u001b[1;33m)\u001b[0m\u001b[1;33m\u001b[0m\u001b[1;33m\u001b[0m\u001b[0m\n\u001b[0;32m     12\u001b[0m         \u001b[0mprint_no_nl\u001b[0m\u001b[1;33m(\u001b[0m\u001b[1;34m\")*(\"\u001b[0m\u001b[1;33m)\u001b[0m\u001b[1;33m\u001b[0m\u001b[1;33m\u001b[0m\u001b[0m\n",
      "\u001b[1;31mNameError\u001b[0m: name 'print_no_nl' is not defined"
     ]
    }
   ],
   "source": [
    "divide_and_conq_exponentiation(3,4)"
   ]
  },
  {
   "cell_type": "markdown",
   "metadata": {},
   "source": [
    "So, is this Divide and Conquer approach any good? It still \n",
    "1. has the same number of multiplies,\n",
    "2. and is recursive\n",
    "so was there any benefit?\n",
    "\n",
    "There was, actually, versus the Decrease by 1 and Conquer version. It uses less memory for large powers. If you think about recursion temporally, then we actually only have to worry about the *depth* of recursion for this w.r.t. (\"with respect to\") space, though it will still be linear time, $\\Theta(n)$.\n",
    "\n",
    "It is obvious that the Decrease by 1 and Conquer version, when it gets to the base case of "
   ]
  },
  {
   "cell_type": "code",
   "execution_count": 13,
   "metadata": {},
   "outputs": [
    {
     "output_type": "error",
     "ename": "NameError",
     "evalue": "name 'recursive_exponentiation' is not defined",
     "traceback": [
      "\u001b[1;31m---------------------------------------------------------------------------\u001b[0m",
      "\u001b[1;31mNameError\u001b[0m                                 Traceback (most recent call last)",
      "\u001b[1;32m<ipython-input-13-91280662636f>\u001b[0m in \u001b[0;36m<module>\u001b[1;34m\u001b[0m\n\u001b[1;32m----> 1\u001b[1;33m \u001b[0mrecursive_exponentiation\u001b[0m\u001b[1;33m(\u001b[0m\u001b[1;36m3\u001b[0m\u001b[1;33m,\u001b[0m\u001b[1;36m5\u001b[0m\u001b[1;33m)\u001b[0m\u001b[1;33m\u001b[0m\u001b[1;33m\u001b[0m\u001b[0m\n\u001b[0m",
      "\u001b[1;31mNameError\u001b[0m: name 'recursive_exponentiation' is not defined"
     ]
    }
   ],
   "source": [
    "recursive_exponentiation(3,5)"
   ]
  },
  {
   "cell_type": "markdown",
   "metadata": {},
   "source": [
    "will have a stack like"
   ]
  },
  {
   "cell_type": "code",
   "execution_count": 1,
   "metadata": {},
   "outputs": [
    {
     "output_type": "display_data",
     "data": {
      "text/plain": "<graphviz.dot.Digraph at 0x1d8d9b6b640>",
      "image/svg+xml": "<?xml version=\"1.0\" encoding=\"UTF-8\" standalone=\"no\"?>\r\n<!DOCTYPE svg PUBLIC \"-//W3C//DTD SVG 1.1//EN\"\r\n \"http://www.w3.org/Graphics/SVG/1.1/DTD/svg11.dtd\">\r\n<!-- Generated by graphviz version 2.46.0 (20210118.1747)\r\n -->\r\n<!-- Pages: 1 -->\r\n<svg width=\"62pt\" height=\"404pt\"\r\n viewBox=\"0.00 0.00 62.00 404.00\" xmlns=\"http://www.w3.org/2000/svg\" xmlns:xlink=\"http://www.w3.org/1999/xlink\">\r\n<g id=\"graph0\" class=\"graph\" transform=\"scale(1 1) rotate(0) translate(4 400)\">\r\n<polygon fill=\"white\" stroke=\"transparent\" points=\"-4,4 -4,-400 58,-400 58,4 -4,4\"/>\r\n<!-- p5 -->\r\n<g id=\"node1\" class=\"node\">\r\n<title>p5</title>\r\n<ellipse fill=\"none\" stroke=\"black\" cx=\"27\" cy=\"-378\" rx=\"27\" ry=\"18\"/>\r\n<text text-anchor=\"middle\" x=\"27\" y=\"-374.3\" font-family=\"Times New Roman,serif\" font-size=\"14.00\">3^5</text>\r\n</g>\r\n<!-- p4 -->\r\n<g id=\"node2\" class=\"node\">\r\n<title>p4</title>\r\n<ellipse fill=\"none\" stroke=\"black\" cx=\"27\" cy=\"-306\" rx=\"27\" ry=\"18\"/>\r\n<text text-anchor=\"middle\" x=\"27\" y=\"-302.3\" font-family=\"Times New Roman,serif\" font-size=\"14.00\">3^4</text>\r\n</g>\r\n<!-- p5&#45;&gt;p4 -->\r\n<g id=\"edge1\" class=\"edge\">\r\n<title>p5&#45;&gt;p4</title>\r\n<path fill=\"none\" stroke=\"black\" d=\"M27,-359.7C27,-351.98 27,-342.71 27,-334.11\"/>\r\n<polygon fill=\"black\" stroke=\"black\" points=\"30.5,-334.1 27,-324.1 23.5,-334.1 30.5,-334.1\"/>\r\n</g>\r\n<!-- p3 -->\r\n<g id=\"node3\" class=\"node\">\r\n<title>p3</title>\r\n<ellipse fill=\"none\" stroke=\"black\" cx=\"27\" cy=\"-234\" rx=\"27\" ry=\"18\"/>\r\n<text text-anchor=\"middle\" x=\"27\" y=\"-230.3\" font-family=\"Times New Roman,serif\" font-size=\"14.00\">3^3</text>\r\n</g>\r\n<!-- p4&#45;&gt;p3 -->\r\n<g id=\"edge2\" class=\"edge\">\r\n<title>p4&#45;&gt;p3</title>\r\n<path fill=\"none\" stroke=\"black\" d=\"M27,-287.7C27,-279.98 27,-270.71 27,-262.11\"/>\r\n<polygon fill=\"black\" stroke=\"black\" points=\"30.5,-262.1 27,-252.1 23.5,-262.1 30.5,-262.1\"/>\r\n</g>\r\n<!-- p2 -->\r\n<g id=\"node4\" class=\"node\">\r\n<title>p2</title>\r\n<ellipse fill=\"none\" stroke=\"black\" cx=\"27\" cy=\"-162\" rx=\"27\" ry=\"18\"/>\r\n<text text-anchor=\"middle\" x=\"27\" y=\"-158.3\" font-family=\"Times New Roman,serif\" font-size=\"14.00\">3^2</text>\r\n</g>\r\n<!-- p3&#45;&gt;p2 -->\r\n<g id=\"edge3\" class=\"edge\">\r\n<title>p3&#45;&gt;p2</title>\r\n<path fill=\"none\" stroke=\"black\" d=\"M27,-215.7C27,-207.98 27,-198.71 27,-190.11\"/>\r\n<polygon fill=\"black\" stroke=\"black\" points=\"30.5,-190.1 27,-180.1 23.5,-190.1 30.5,-190.1\"/>\r\n</g>\r\n<!-- p1 -->\r\n<g id=\"node5\" class=\"node\">\r\n<title>p1</title>\r\n<ellipse fill=\"none\" stroke=\"black\" cx=\"27\" cy=\"-90\" rx=\"27\" ry=\"18\"/>\r\n<text text-anchor=\"middle\" x=\"27\" y=\"-86.3\" font-family=\"Times New Roman,serif\" font-size=\"14.00\">3^1</text>\r\n</g>\r\n<!-- p2&#45;&gt;p1 -->\r\n<g id=\"edge4\" class=\"edge\">\r\n<title>p2&#45;&gt;p1</title>\r\n<path fill=\"none\" stroke=\"black\" d=\"M27,-143.7C27,-135.98 27,-126.71 27,-118.11\"/>\r\n<polygon fill=\"black\" stroke=\"black\" points=\"30.5,-118.1 27,-108.1 23.5,-118.1 30.5,-118.1\"/>\r\n</g>\r\n<!-- p0 -->\r\n<g id=\"node6\" class=\"node\">\r\n<title>p0</title>\r\n<ellipse fill=\"none\" stroke=\"black\" cx=\"27\" cy=\"-18\" rx=\"27\" ry=\"18\"/>\r\n<text text-anchor=\"middle\" x=\"27\" y=\"-14.3\" font-family=\"Times New Roman,serif\" font-size=\"14.00\">3^0</text>\r\n</g>\r\n<!-- p1&#45;&gt;p0 -->\r\n<g id=\"edge5\" class=\"edge\">\r\n<title>p1&#45;&gt;p0</title>\r\n<path fill=\"none\" stroke=\"black\" d=\"M27,-71.7C27,-63.98 27,-54.71 27,-46.11\"/>\r\n<polygon fill=\"black\" stroke=\"black\" points=\"30.5,-46.1 27,-36.1 23.5,-46.1 30.5,-46.1\"/>\r\n</g>\r\n</g>\r\n</svg>\r\n"
     },
     "metadata": {}
    }
   ],
   "source": [
    "from graphviz import Digraph\n",
    "\n",
    "dot = Digraph()\n",
    "\n",
    "dot.node('p5','3^5')\n",
    "dot.node('p4','3^4')\n",
    "dot.node('p3','3^3')\n",
    "dot.node('p2','3^2')\n",
    "dot.node('p1','3^1')\n",
    "dot.node('p0','3^0')\n",
    "\n",
    "dot.edge('p5','p4')\n",
    "dot.edge('p4','p3')\n",
    "dot.edge('p3','p2')\n",
    "dot.edge('p2','p1')\n",
    "dot.edge('p1','p0')\n",
    "\n",
    "\n",
    "display(dot)"
   ]
  },
  {
   "cell_type": "markdown",
   "metadata": {},
   "source": [
    "or"
   ]
  },
  {
   "cell_type": "code",
   "execution_count": 9,
   "metadata": {},
   "outputs": [
    {
     "output_type": "error",
     "ename": "NameError",
     "evalue": "name 'Digraph' is not defined",
     "traceback": [
      "\u001b[1;31m---------------------------------------------------------------------------\u001b[0m",
      "\u001b[1;31mNameError\u001b[0m                                 Traceback (most recent call last)",
      "\u001b[1;32m<ipython-input-9-e22b55813dfc>\u001b[0m in \u001b[0;36m<module>\u001b[1;34m\u001b[0m\n\u001b[1;32m----> 1\u001b[1;33m \u001b[0mdot\u001b[0m \u001b[1;33m=\u001b[0m \u001b[0mDigraph\u001b[0m\u001b[1;33m(\u001b[0m\u001b[1;33m)\u001b[0m\u001b[1;33m\u001b[0m\u001b[1;33m\u001b[0m\u001b[0m\n\u001b[0m\u001b[0;32m      2\u001b[0m \u001b[1;33m\u001b[0m\u001b[0m\n\u001b[0;32m      3\u001b[0m \u001b[0mdot\u001b[0m\u001b[1;33m.\u001b[0m\u001b[0mnode\u001b[0m\u001b[1;33m(\u001b[0m\u001b[1;34m\"\"\u001b[0m\u001b[1;33m,\u001b[0m\u001b[1;34m\"{3^0 | 3^1 | 3^2 | 3^3 | 3^4 | 3^5}\"\u001b[0m\u001b[1;33m,\u001b[0m\u001b[0mshape\u001b[0m\u001b[1;33m=\u001b[0m\u001b[1;34m'record'\u001b[0m\u001b[1;33m)\u001b[0m\u001b[1;33m\u001b[0m\u001b[1;33m\u001b[0m\u001b[0m\n\u001b[0;32m      4\u001b[0m \u001b[1;33m\u001b[0m\u001b[0m\n\u001b[0;32m      5\u001b[0m \u001b[1;33m\u001b[0m\u001b[0m\n",
      "\u001b[1;31mNameError\u001b[0m: name 'Digraph' is not defined"
     ]
    }
   ],
   "source": [
    "dot = Digraph()\n",
    "\n",
    "dot.node(\"\",\"{3^0 | 3^1 | 3^2 | 3^3 | 3^4 | 3^5}\",shape='record')\n",
    "\n",
    "\n",
    "\n",
    "display(dot)"
   ]
  },
  {
   "cell_type": "markdown",
   "metadata": {},
   "source": [
    "and "
   ]
  },
  {
   "cell_type": "code",
   "execution_count": null,
   "metadata": {},
   "outputs": [],
   "source": [
    "divide_and_conq_exponentiation(3,5)"
   ]
  },
  {
   "cell_type": "markdown",
   "metadata": {},
   "source": [
    "will, accumulated *over time*, have something that looks like "
   ]
  },
  {
   "cell_type": "code",
   "execution_count": null,
   "metadata": {},
   "outputs": [],
   "source": [
    "dot = Digraph()\n",
    "\n",
    "dot.node('p5','3^5')\n",
    "dot.node('p3','3^3')\n",
    "dot.node('p2ll','3^2')\n",
    "dot.node('p2r','3^2')\n",
    "dot.node('p1lll','3^1')\n",
    "dot.node('p1llr','3^1')\n",
    "dot.node('p1lr','3^1')\n",
    "dot.node('p1rr','3^1')\n",
    "dot.node('p1rl','3^1')\n",
    "\n",
    "dot.edge('p5','p3')\n",
    "dot.edge('p3','p2ll')\n",
    "dot.edge('p2ll','p1lll')\n",
    "dot.edge('p2ll','p1llr')\n",
    "dot.edge('p3','p1lr')\n",
    "dot.edge('p5','p2r')\n",
    "dot.edge('p2r','p1rl')\n",
    "dot.edge('p2r','p1rr')\n",
    "\n",
    "\n",
    "display(dot)"
   ]
  },
  {
   "cell_type": "markdown",
   "metadata": {},
   "source": [
    "Incidentally, the above tree is actually good for understanding the *time* cost of this approach \n",
    "- each internal node corresponds to a multiply\n",
    "- each leaf is a base case\n",
    "- not-so-formally, the logarithmic number of layers (from repeated division by $2$) is \"cancelling out\" the exponential growth in the number of nodes at each layer  \n",
    "\n",
    "Regarding *space* complexity, \n",
    "- this is a little misleading -- not all nodes exist at one time (in memory).\n",
    "- what probably exists, for this algorithm, is one root-to-node path at a time."
   ]
  },
  {
   "cell_type": "markdown",
   "metadata": {},
   "source": [
    "But, over time it looks more like"
   ]
  },
  {
   "cell_type": "code",
   "execution_count": null,
   "metadata": {
    "scrolled": false
   },
   "outputs": [],
   "source": [
    "dot = Digraph()\n",
    "\n",
    "dot.node('p5','3^5')\n",
    "dot.node('p3','3^3')\n",
    "\n",
    "\n",
    "dot.edge('p5','p3')\n",
    "\n",
    "\n",
    "\n",
    "display(dot)\n",
    "\n",
    "dot = Digraph()\n",
    "\n",
    "dot.node('p5','3^5')\n",
    "dot.node('p3','3^3')\n",
    "dot.node('p2ll','3^2')\n",
    "\n",
    "\n",
    "dot.edge('p5','p3')\n",
    "dot.edge('p3','p2ll')\n",
    "\n",
    "display(dot)\n",
    "\n",
    "dot = Digraph()\n",
    "\n",
    "dot.node('p5','3^5')\n",
    "dot.node('p3','3^3')\n",
    "dot.node('p2ll','3^2')\n",
    "dot.node('p1lll','3^1')\n",
    "\n",
    "dot.edge('p5','p3')\n",
    "dot.edge('p3','p2ll')\n",
    "dot.edge('p2ll','p1lll')\n",
    "\n",
    "display(dot)\n",
    "\n",
    "dot = Digraph()\n",
    "\n",
    "dot.node('p5','3^5')\n",
    "dot.node('p3','3^3')\n",
    "dot.node('p2ll','3^2')\n",
    "\n",
    "dot.edge('p5','p3')\n",
    "dot.edge('p3','p2ll')\n",
    "\n",
    "display(dot)\n",
    "\n",
    "dot = Digraph()\n",
    "\n",
    "dot.node('p5','3^5')\n",
    "dot.node('p3','3^3')\n",
    "dot.node('p2ll','3^2')\n",
    "dot.node('p1llr','3^1')\n",
    "\n",
    "dot.edge('p5','p3')\n",
    "dot.edge('p3','p2ll')\n",
    "dot.edge('p2ll','p1llr')\n",
    "\n",
    "display(dot)\n",
    "\n",
    "dot = Digraph()\n",
    "\n",
    "dot.node('p5','3^5')\n",
    "dot.node('p3','3^3')\n",
    "dot.node('p2ll','3^2')\n",
    "\n",
    "dot.edge('p5','p3')\n",
    "dot.edge('p3','p2ll')\n",
    "\n",
    "display(dot)\n",
    "\n",
    "dot = Digraph()\n",
    "\n",
    "dot.node('p5','3^5')\n",
    "dot.node('p3','3^3')\n",
    "\n",
    "dot.edge('p5','p3')\n",
    "\n",
    "\n",
    "\n",
    "display(dot)\n",
    "\n",
    "dot = Digraph()\n",
    "\n",
    "dot.node('p5','3^5')\n",
    "dot.node('p3','3^3')\n",
    "dot.node('p1lr','3^1')\n",
    "\n",
    "dot.edge('p5','p3')\n",
    "dot.edge('p3','p1lr')\n",
    "\n",
    "\n",
    "\n",
    "display(dot)\n",
    "\n",
    "dot = Digraph()\n",
    "\n",
    "dot.node('p5','3^5')\n",
    "dot.node('p3','3^3')\n",
    "\n",
    "\n",
    "dot.edge('p5','p3')\n",
    "\n",
    "display(dot)\n",
    "\n",
    "dot = Digraph()\n",
    "\n",
    "dot.node('p5','3^5')\n",
    "\n",
    "\n",
    "display(dot)\n",
    "\n",
    "dot = Digraph()\n",
    "\n",
    "dot.node('p5','3^5')\n",
    "dot.node('p2r','3^2')\n",
    "\n",
    "\n",
    "dot.edge('p5','p2r')\n",
    "\n",
    "\n",
    "display(dot)\n",
    "\n",
    "dot = Digraph()\n",
    "\n",
    "dot.node('p5','3^5')\n",
    "dot.node('p2r','3^2')\n",
    "dot.node('p1rl','3^1')\n",
    "\n",
    "\n",
    "dot.edge('p5','p2r')\n",
    "dot.edge('p2r','p1rl')\n",
    "\n",
    "\n",
    "display(dot)\n",
    "\n",
    "\n",
    "\n",
    "dot = Digraph()\n",
    "\n",
    "dot.node('p5','3^5')\n",
    "dot.node('p2r','3^2')\n",
    "\n",
    "\n",
    "dot.edge('p5','p2r')\n",
    "\n",
    "\n",
    "display(dot)\n",
    "\n",
    "dot = Digraph()\n",
    "\n",
    "dot.node('p5','3^5')\n",
    "dot.node('p2r','3^2')\n",
    "dot.node('p1rr','3^1')\n",
    "\n",
    "\n",
    "dot.edge('p5','p2r')\n",
    "dot.edge('p2r','p1rr')\n",
    "\n",
    "\n",
    "display(dot)\n",
    "\n",
    "dot = Digraph()\n",
    "\n",
    "dot.node('p5','3^5')\n",
    "dot.node('p2r','3^2')\n",
    "\n",
    "dot.edge('p5','p2r')\n",
    "\n",
    "display(dot)\n",
    "\n",
    "dot = Digraph()\n",
    "\n",
    "dot.node('p5','3^5')\n",
    "\n",
    "\n",
    "display(dot)"
   ]
  },
  {
   "cell_type": "markdown",
   "metadata": {},
   "source": [
    "...perhaps better drawn as:"
   ]
  },
  {
   "cell_type": "code",
   "execution_count": null,
   "metadata": {},
   "outputs": [],
   "source": [
    "dot = Digraph()\n",
    "\n",
    "dot.node('1', \"3^5\",shape='record')\n",
    "dot.node('2', \"{3^3 | 3^5}\",shape='record')\n",
    "dot.node('3', \"{3^2 |3^3 | 3^5}\",shape='record')\n",
    "dot.node('4', \"{3^1 |3^2 |3^3 | 3^5}\",shape='record')\n",
    "dot.node('5', \"{3^2 |3^3 | 3^5}\",shape='record')\n",
    "dot.node('6', \"{3^1 |3^2 |3^3 | 3^5}\",shape='record')\n",
    "dot.node('7', \"{3^2 |3^3 | 3^5}\",shape='record')\n",
    "dot.node('8', \"{3^3 | 3^5}\",shape='record')\n",
    "dot.node('9', \"{3^1 |3^3 | 3^5}\",shape='record')\n",
    "dot.node('10', \"{3^3 | 3^5}\",shape='record')\n",
    "dot.node('11', \"3^5\",shape='record')\n",
    "dot.node('12', \"{3^2 | 3^5}\",shape='record')\n",
    "dot.node('13', \"{3^1 | 3^2 | 3^5}\",shape='record')\n",
    "dot.node('14', \"{3^2 | 3^5}\",shape='record')\n",
    "dot.node('15', \"{3^1 | 3^2 | 3^5}\",shape='record')\n",
    "dot.node('16', \"{3^2 | 3^5}\",shape='record')\n",
    "dot.node('17', \"{3^5}\",shape='record')\n",
    "\n",
    "dot.node(\"return\")\n",
    "\n",
    "dot.edge('1','2',label=\"push\")\n",
    "dot.edge('2','3',label=\"push\")\n",
    "dot.edge('3','4',label=\"push\")\n",
    "dot.edge('4','5',label=\"pop\")\n",
    "dot.edge('5','6',label=\"push\")\n",
    "dot.edge('6','7',label=\"pop\")\n",
    "dot.edge('7','8',label=\"pop\")\n",
    "dot.edge('8','9',label=\"push\")\n",
    "dot.edge('9','10',label=\"pop\")\n",
    "dot.edge('10','11',label=\"pop\")\n",
    "dot.edge('11','12',label=\"push\")\n",
    "dot.edge('12','13',label=\"push\")\n",
    "dot.edge('13','14',label=\"pop\")\n",
    "dot.edge('14','15',label=\"push\")\n",
    "dot.edge('15','16',label=\"pop\")\n",
    "dot.edge('16','17',label=\"pop\")\n",
    "\n",
    "dot.edge('17','return')\n",
    "\n",
    "\n",
    "display(dot)"
   ]
  },
  {
   "cell_type": "markdown",
   "metadata": {},
   "source": [
    "The stack will only get as deep as the deepest leaf in both trees -- the Divide and Conquer and the Decrease-by-1-and-Conquer.\n",
    "- The Decrease-by-1-and-Conquer necessarily has $O(n)$, linear height.\n",
    "- The Divide and Conquer will be approximately $O(log_2 n)$ in height because \n",
    "    - The subproblems are approximately half the size of the original problem, recursively.\n",
    "    - (in single-threaded code) Only one subproblem needs to be explored at a time, again recursively."
   ]
  },
  {
   "cell_type": "markdown",
   "metadata": {},
   "source": [
    "But, that's not really the interesting part about this. There is something that will make a dramatic difference:\n",
    "\n",
    "> There are repeated subproblems.\n",
    "\n",
    "e.g. $3^{101}$ is $3^{101}$ no matter how you calculate it so one *could* remember the solutions. \n",
    "\n",
    "There is another, probably new to you, technique called **memoization**, which can be used for certain strategies like Dynamic Programming.\n",
    "\n",
    "So, somewhat absurdly, we're going to use a Hash Table which has *average*, expected time (under reasonable assumptions) \n",
    "- $O(1)$ insertions, per insertion\n",
    "- $O(1)$ lookup/search, per search\n",
    "- $O(1)$ deletion, though we won't use that here\n",
    "- A hash table is a common *implementation* of the Dictionary *Abstract Data Type (ADT)*.\n",
    "\n",
    "This is \"absurd\" because this is \n",
    "1. massive overkill for this problem\n",
    "1. exponention for any numbers not really close to $1$ will likely overflow or vanish unless using arbitrary precision numbers"
   ]
  },
  {
   "cell_type": "code",
   "execution_count": null,
   "metadata": {},
   "outputs": [],
   "source": [
    "def memoized_exponentiation(a, p):\n",
    "    \"\"\"\n",
    "    memoized approach to exponentiation\n",
    "    a -- the number being raised to a power\n",
    "    p -- the non-negative, integral power a is being raised to\n",
    "    \"\"\"\n",
    "    pows = {}\n",
    "    #insert base cases\n",
    "    pows[0] = 1\n",
    "    pows[1] = a\n",
    "\n",
    "    def m_e_helper(a,p):\n",
    "        \"\"\"\n",
    "        helper, inner/nested function\n",
    "        uses divide an conquer approach but looks up to see if previous values have been calculated\n",
    "        a -- the number being raised to a power\n",
    "        p -- the non-negative, integral power a is being raised to\n",
    "        \"\"\"\n",
    "        if p in pows:\n",
    "            print_no_nl(str(a)+\"^\"+str(p))\n",
    "            return pows[p]\n",
    "        elif p > 1:\n",
    "            print_no_nl(\"(\")\n",
    "            a_to_ceiling_half_p = m_e_helper(a,math.ceil(p/2))\n",
    "            print_no_nl(\")*(\")\n",
    "            a_to_floor_half_p = m_e_helper(a,math.floor(p/2))\n",
    "            print_no_nl(\")\")\n",
    "            power = a_to_ceiling_half_p * a_to_floor_half_p\n",
    "            pows[p] = power #remember/store the solution\n",
    "            return power\n",
    "        else:         \n",
    "            raise Exception(\"p must be integral and nonnegative\")\n",
    "    return m_e_helper( a, p)\n"
   ]
  },
  {
   "cell_type": "code",
   "execution_count": null,
   "metadata": {},
   "outputs": [],
   "source": [
    "memoized_exponentiation(3,4)"
   ]
  },
  {
   "cell_type": "code",
   "execution_count": null,
   "metadata": {},
   "outputs": [],
   "source": [
    "memoized_exponentiation(3,16)"
   ]
  },
  {
   "cell_type": "code",
   "execution_count": null,
   "metadata": {},
   "outputs": [],
   "source": [
    "memoized_exponentiation(3,25)"
   ]
  },
  {
   "cell_type": "markdown",
   "metadata": {},
   "source": [
    "For comparison:"
   ]
  },
  {
   "cell_type": "code",
   "execution_count": null,
   "metadata": {},
   "outputs": [],
   "source": [
    "divide_and_conq_exponentiation(3,25)"
   ]
  },
  {
   "cell_type": "markdown",
   "metadata": {},
   "source": [
    "Wonder what the worst case is? Something like \n",
    "\n",
    "$p = (((((1+2)+4)+8)+16)+32)$\n",
    "\n",
    "perhaps?\n"
   ]
  },
  {
   "cell_type": "code",
   "execution_count": null,
   "metadata": {},
   "outputs": [],
   "source": [
    "memoized_exponentiation(3,63)"
   ]
  },
  {
   "cell_type": "code",
   "execution_count": null,
   "metadata": {},
   "outputs": [],
   "source": [
    "memoized_exponentiation(3,64)"
   ]
  },
  {
   "cell_type": "markdown",
   "metadata": {},
   "source": [
    "We finally got some sort of *time* gains for this problem at the expense of a memory space, though I think the analysis is too tricky for now.\n",
    "\n",
    "This is also an example of a space-time tradeoff -- we can fairly often gain something by precomputing or remembering *something* to solve a problem. "
   ]
  },
  {
   "cell_type": "markdown",
   "metadata": {},
   "source": [
    "We can keep tearing at this problem and notice one more thing, probably from the Divide and Conquer approach, but maybe from the memoized approach as well:\n",
    "\n",
    "> The subproblems for odd number problem powers differ exactly by the factor $a$, the base/number being exponentiated, while even power solutions to subproblems are the same."
   ]
  },
  {
   "cell_type": "markdown",
   "metadata": {},
   "source": [
    "## Decrease-by-a-Constant-*Factor*-and-Conquer Approach\n",
    "The factor here is $2$, halving the problem size. \n",
    "\n",
    "We will write it similarly, in a general piecewise function form like Divide and Conquer, above:\n",
    "\n",
    "$a^p = \\begin{cases} a\\times (a^{\\lfloor \\frac{p}{2} \\rfloor})^2 & p>1\\text{ and p is odd} \\\\ a\\times (a^{ \\frac{p}{2} })^2 & p>1\\text{ and p is even} \\\\ a & p =1 \\\\ 1 &p =0 \\end{cases} $"
   ]
  },
  {
   "cell_type": "code",
   "execution_count": null,
   "metadata": {},
   "outputs": [],
   "source": [
    "def dec_by_half_exponentiation(a,p):\n",
    "    \"\"\"\n",
    "    Decrease by a HALF approach to exponentiation\n",
    "    a -- the number being raised to a power\n",
    "    p -- the non-negative, integral power a is being raised to\n",
    "    \"\"\"\n",
    "    if p > 1 and p%2 == 0:\n",
    "        print_no_nl(\"(\")\n",
    "        a_to_half_p = dec_by_half_exponentiation(a,p//2) # // is integral division, / is floating point\n",
    "        print_no_nl(\")^2\")\n",
    "        return a_to_half_p * a_to_half_p\n",
    "    if p > 1 and p%2 == 1:\n",
    "        print_no_nl(\"a*(\")\n",
    "        a_to_half_p = dec_by_half_exponentiation(a,p//2) # // is integral division, / is floating point\n",
    "        print_no_nl(\")^2\")\n",
    "        return a*a_to_half_p * a_to_half_p\n",
    "    elif p == 1:\n",
    "        print_no_nl(a)\n",
    "        return a\n",
    "    elif p == 0:\n",
    "        print_no_nl(1)\n",
    "        return 1\n",
    "    else:         \n",
    "        raise Exception(\"p must be integral and nonnegative\")"
   ]
  },
  {
   "cell_type": "code",
   "execution_count": null,
   "metadata": {},
   "outputs": [],
   "source": [
    "dec_by_half_exponentiation(3,4)"
   ]
  },
  {
   "cell_type": "code",
   "execution_count": null,
   "metadata": {},
   "outputs": [],
   "source": [
    "dec_by_half_exponentiation(3,101)"
   ]
  },
  {
   "cell_type": "markdown",
   "metadata": {},
   "source": [
    "Note: Squaring is just a single multiply\n",
    "Also Note: Python 3 does arbitrary precision integers."
   ]
  },
  {
   "cell_type": "code",
   "execution_count": null,
   "metadata": {},
   "outputs": [],
   "source": [
    "dec_by_half_exponentiation(3,63)"
   ]
  },
  {
   "cell_type": "markdown",
   "metadata": {},
   "source": [
    "Which suggests a worst case: any power of two minus $1$, often written as\n",
    "\n",
    "$n = 2^k-1, k \\in \\mathbb{N}$"
   ]
  },
  {
   "cell_type": "markdown",
   "metadata": {},
   "source": [
    "There are other approaches too. If you think of the binary representation of a number such as \n",
    "\n",
    "$27_{10}$\n",
    "\n",
    "the number string \"27\" in base-10 as \n",
    "\n",
    "$11011_2$\n",
    "\n",
    "and if you were paying attention in grade school and understand __[positional notation](https://en.wikipedia.org/wiki/Positional_notation)__ then you get that\n",
    "\n",
    "$27_{10}= 2*10^1+7*10^0$\n",
    "\n",
    "or, in binary\n",
    "\n",
    "$11011_2 = 1\\times2^4+1\\times2^3+0\\times2^2+1\\times2^1+1\\times2^0$\n",
    "\n",
    "you might, after figuring out that, e.g.,\n",
    "\n",
    "$4^{27}=4^{16+8+2+1}=4^{16}\\times4^8\\times4^2\\times4^1$\n",
    "\n",
    "come up with"
   ]
  },
  {
   "cell_type": "code",
   "execution_count": null,
   "metadata": {},
   "outputs": [],
   "source": [
    "def binary_repr_exponentiation(a,p):\n",
    "    if p <= 0 or type(p) is not int:\n",
    "        raise Exception(\"p must be int and nonnegative\")\n",
    "    if p == 0:\n",
    "        return 1\n",
    "    if a == 0:\n",
    "        return 0  # 0^0 is an odd case...\n",
    "    acc = 1\n",
    "    print_no_nl(acc)\n",
    "    p_pow = a\n",
    "    while p > 0:\n",
    "        if p%2 == 1:\n",
    "            acc *= p_pow\n",
    "            print_no_nl('*'+str(p_pow))\n",
    "        p_pow *= p_pow # square to get next binary power (ones,twos,fours,eights,...-places)\n",
    "        p = p//2\n",
    "    return acc"
   ]
  },
  {
   "cell_type": "code",
   "execution_count": null,
   "metadata": {},
   "outputs": [],
   "source": [
    "binary_repr_exponentiation(3,4)"
   ]
  },
  {
   "cell_type": "code",
   "execution_count": null,
   "metadata": {},
   "outputs": [],
   "source": [
    "binary_repr_exponentiation(3,3)"
   ]
  },
  {
   "cell_type": "code",
   "execution_count": null,
   "metadata": {},
   "outputs": [],
   "source": [
    "binary_repr_exponentiation(3,7)"
   ]
  },
  {
   "cell_type": "code",
   "execution_count": null,
   "metadata": {},
   "outputs": [],
   "source": [
    "binary_repr_exponentiation(3,8)"
   ]
  },
  {
   "cell_type": "code",
   "execution_count": null,
   "metadata": {},
   "outputs": [],
   "source": [
    "math.pow(3,8)"
   ]
  },
  {
   "cell_type": "markdown",
   "metadata": {},
   "source": [
    "One could even build a table and quickly compute powers for a given base $a$..."
   ]
  },
  {
   "cell_type": "code",
   "execution_count": null,
   "metadata": {},
   "outputs": [],
   "source": []
  },
  {
   "cell_type": "code",
   "execution_count": null,
   "metadata": {},
   "outputs": [],
   "source": []
  }
 ],
 "metadata": {
  "kernelspec": {
   "name": "python3",
   "display_name": "Python 3.9.1 64-bit",
   "metadata": {
    "interpreter": {
     "hash": "013e24a61daa445050d0972edf6f8228f4b6ca744b06bc1d4b3b842e2f05acce"
    }
   }
  },
  "language_info": {
   "codemirror_mode": {
    "name": "ipython",
    "version": 3
   },
   "file_extension": ".py",
   "mimetype": "text/x-python",
   "name": "python",
   "nbconvert_exporter": "python",
   "pygments_lexer": "ipython3",
   "version": "3.9.1-final"
  }
 },
 "nbformat": 4,
 "nbformat_minor": 2
}