{
 "cells": [
  {
   "cell_type": "markdown",
   "metadata": {
    "slideshow": {
     "slide_type": "slide"
    }
   },
   "source": [
    "# Setup\n",
    "- Install some basic Jupyter notebook environment, for Python 3. Easy in Linux. \n",
    "    - Consider Anaconda in Windows and Mac, though it uses a substatial amount of space.\n",
    "    - If you cannot, then you can still view the notebooks online through a link in the course.\n",
    "        - Notebooks will display mostly correctly as HTML (a few things do not)\n",
    "        - This is one of the reasons I like these for smaller examples\n",
    "- Install python-graphviz"
   ]
  },
  {
   "cell_type": "markdown",
   "metadata": {
    "slideshow": {
     "slide_type": "slide"
    }
   },
   "source": [
    "# Exponentiation Examples for different strategies\n",
    "## Purpose:\n",
    "1. To demonstrate different strategies for a relatively simple problem\n",
    "    - Not all strategies \"yield\" improvement over the Brute Force approach, and probably make them less efficient due to extra complexity (recursive calls, extra space, etc.)\n",
    "    - But an algorithm design strategy, even if ineffective, allows you to look at the problem differently and may reveal a better approach\n",
    "1. To get you used to basic Python Syntax, as most of you have not spent much or any time with it. This will be quite useful for me to generate additional examples where I don't think a C++ version is particularly helpful. Python is:\n",
    "    - \\+ Readable, typically easy to read for those with an imperative language background (C,C++,Java)\n",
    "    - \\+ Writable, easy to write\n",
    "        - \\+ white space sensitive: good for *readability*\n",
    "        - \\- white space sensitive: tends to be rough when coming from C-style languages (C, C++, Java) at first\n",
    "        - \\+ good, extensive libraries for many varied tasks\n",
    "            - used for deep learning libraries, data visualization (often in Jupyter notebooks), etc.\n",
    "            - also a very helpful tool for programming tasks, like manipulating folders, etc.\n",
    "    - \\+ has useful data structures *without including libraries* such as lists (__[like Java ArrayList, C++ vector](https://en.wikipedia.org/wiki/Dynamic_array)__), which are really interesting data structures in their own right and will likely be covered at some point, and **dict**ionaries (hash tables)\n",
    "1. To get you used to basic Jupyter notebook usage. This is a great way for me to share code/examples with you. __[(command cheat sheet)](https://www.edureka.co/blog/wp-content/uploads/2018/10/Jupyter_Notebook_CheatSheet_Edureka.pdf)__\n",
    "1. This is a general review of \n",
    "    - CSCE 146 topics, like $O(\\cdot),\\Theta(\\cdot)$ notation\n",
    "    - a few Math symbols\n",
    "        "
   ]
  },
  {
   "cell_type": "markdown",
   "metadata": {
    "slideshow": {
     "slide_type": "slide"
    }
   },
   "source": [
    "## Brute Force\n",
    "The definition of **brute force** we are using here is the \"straight forward/from the defintion\" (of exponentiation) one, and not the \"exhaustive search\" definition."
   ]
  },
  {
   "cell_type": "code",
   "execution_count": 1,
   "metadata": {},
   "outputs": [],
   "source": [
    "def print_no_nl(s):\n",
    "    \"\"\"\n",
    "    Prints input as string without newline\n",
    "    Input: something printable, will be converted to string, if not already\n",
    "    (this is just a little helper function)\n",
    "    \"\"\"\n",
    "    print(str(s),end='')\n",
    "\n",
    "def bf_exponentation(a, p): # function definition\n",
    "    \"\"\"\n",
    "    Brute Force Exponentiation\n",
    "    a -- the number being raised to a power\n",
    "    p -- the non-negative, integral power a is being raised to\n",
    "    \"\"\"\n",
    "    power = 1 \n",
    "    print_no_nl(1) \n",
    "    while p > 0:\n",
    "        power = power * a\n",
    "        p = p-1\n",
    "        print_no_nl(\"*\" + str(a))\n",
    "    \n",
    "    return power\n",
    "    "
   ]
  },
  {
   "cell_type": "code",
   "execution_count": 3,
   "metadata": {},
   "outputs": [
    {
     "output_type": "stream",
     "name": "stdout",
     "text": [
      "1*10*10"
     ]
    },
    {
     "output_type": "execute_result",
     "data": {
      "text/plain": [
       "100"
      ]
     },
     "metadata": {},
     "execution_count": 3
    }
   ],
   "source": [
    "bf_exponentation(10,2)"
   ]
  },
  {
   "cell_type": "code",
   "execution_count": null,
   "metadata": {},
   "outputs": [],
   "source": [
    "bf_exponentation(2,10)"
   ]
  },
  {
   "cell_type": "markdown",
   "metadata": {},
   "source": [
    "Also, a reminder that $2^{10} \\approx 10^3$\n",
    "- great to remember that when working with binary and you need to actually do calculations, approximately, which may occasionally come up in class, though more often in networking (CSCE 416), maybo OS (CSCE 311), and hardware courses \n",
    "- e.g. $2^{23}=2^3\\times 2^{10} \\times 2^{10} \\approx 2^3 \\times 10^6 = 8 000 000 $ \n",
    "- (oh, and I can do $\\LaTeX$ in Jupyter notebooks too... forgot about that, which is *great* for Chapter 2) "
   ]
  },
  {
   "cell_type": "code",
   "execution_count": null,
   "metadata": {},
   "outputs": [],
   "source": [
    "bf_exponentation(5,1)"
   ]
  },
  {
   "cell_type": "code",
   "execution_count": null,
   "metadata": {},
   "outputs": [],
   "source": [
    "bf_exponentation(25,0)"
   ]
  },
  {
   "cell_type": "markdown",
   "metadata": {},
   "source": [
    "What's *missing* so far, versus Java/C++?"
   ]
  },
  {
   "cell_type": "markdown",
   "metadata": {},
   "source": [
    "**Types** are missing, as in declaring your types for **static** (compile-time) type checking like in Java/C++\n",
    "- Python *does* do type checking, but it is **dynamically** typed, meaning it is checking at runtime; Python's type system is also described as \"duck typing\"\n",
    "    - \\+ Do not have to declare types in code (if the functions/operators work and exist, the code will run)\n",
    "    - \\+ Do not have to do templates (generic programming as in C++/Java)\n",
    "    - \\- Can be bad if your code runs for days before hitting problem code and crashing out, e.g. in deep learning\n",
    "    - (we will see some C++ examples using the **auto** keyword that offer a third option -- type inference)\n",
    "- So, we can use the above code to do stuff like"
   ]
  },
  {
   "cell_type": "code",
   "execution_count": null,
   "metadata": {},
   "outputs": [],
   "source": [
    "bf_exponentation(0.5,3)"
   ]
  },
  {
   "cell_type": "markdown",
   "metadata": {},
   "source": [
    "In case you're paranoid there's some formatting trickery, like displaying 1.0 as \"1\", here you go:"
   ]
  },
  {
   "cell_type": "code",
   "execution_count": 4,
   "metadata": {},
   "outputs": [
    {
     "output_type": "stream",
     "name": "stdout",
     "text": [
      "1*0.5*0.5*0.5"
     ]
    },
    {
     "output_type": "execute_result",
     "data": {
      "text/plain": [
       "float"
      ]
     },
     "metadata": {},
     "execution_count": 4
    }
   ],
   "source": [
    "type(bf_exponentation(0.5,3))"
   ]
  },
  {
   "cell_type": "code",
   "execution_count": null,
   "metadata": {},
   "outputs": [],
   "source": [
    "type(bf_exponentation(2,3))"
   ]
  },
  {
   "cell_type": "markdown",
   "metadata": {},
   "source": [
    "## Decrease-by-a-*Constant*(-and-Conquer)\n",
    "- Constant here, and typically, is just $1$\n",
    "- This maps to a recursive approach, e.g."
   ]
  },
  {
   "cell_type": "markdown",
   "metadata": {},
   "source": [
    " $3^4 = 3\\times 3^3$\n",
    " \n",
    "  $= 3\\times 3\\times 3^2$\n",
    "  \n",
    "  $= 3\\times 3\\times 3\\times 3^1$\n",
    "  \n",
    "  $= 3\\times 3\\times 3\\times 3\\times 3^0$"
   ]
  },
  {
   "cell_type": "markdown",
   "metadata": {},
   "source": [
    "Or, more generally,\n",
    "\n",
    "$  a^p = \\begin{cases} a\\times a^{p-1} & p>0 \\\\ 1 & p=0 \\end{cases} $"
   ]
  },
  {
   "cell_type": "markdown",
   "metadata": {},
   "source": [
    "Defining recursively:"
   ]
  },
  {
   "cell_type": "code",
   "execution_count": 19,
   "metadata": {},
   "outputs": [],
   "source": [
    "def recursive_exponentiation(a,p):\n",
    "    \"\"\"\n",
    "    Decrease by a constant and conquer, basic recursive approach to exponentiation\n",
    "    a -- the number being raised to a power\n",
    "    p -- the non-negative, integral power a is being raised to\n",
    "    \"\"\"\n",
    "    if p == 0:\n",
    "        print_no_nl(1)\n",
    "        return 1\n",
    "    else:         \n",
    "        print_no_nl(str(a)+\"*(\")\n",
    "        \n",
    "        a_to_p_minus_1 = recursive_exponentiation(a,p-1)\n",
    "        \n",
    "        print_no_nl(\")\")\n",
    "        return a*a_to_p_minus_1"
   ]
  },
  {
   "cell_type": "code",
   "execution_count": 20,
   "metadata": {},
   "outputs": [
    {
     "output_type": "error",
     "ename": "NameError",
     "evalue": "name 'print_no_nl' is not defined",
     "traceback": [
      "\u001b[1;31m---------------------------------------------------------------------------\u001b[0m",
      "\u001b[1;31mNameError\u001b[0m                                 Traceback (most recent call last)",
      "\u001b[1;32m<ipython-input-20-2c74d5c1e5b8>\u001b[0m in \u001b[0;36m<module>\u001b[1;34m\u001b[0m\n\u001b[1;32m----> 1\u001b[1;33m \u001b[0mrecursive_exponentiation\u001b[0m\u001b[1;33m(\u001b[0m\u001b[1;36m3\u001b[0m\u001b[1;33m,\u001b[0m\u001b[1;36m4\u001b[0m\u001b[1;33m)\u001b[0m\u001b[1;33m\u001b[0m\u001b[1;33m\u001b[0m\u001b[0m\n\u001b[0m",
      "\u001b[1;32m<ipython-input-19-e7be8ef552e2>\u001b[0m in \u001b[0;36mrecursive_exponentiation\u001b[1;34m(a, p)\u001b[0m\n\u001b[0;32m      9\u001b[0m         \u001b[1;32mreturn\u001b[0m \u001b[1;36m1\u001b[0m\u001b[1;33m\u001b[0m\u001b[1;33m\u001b[0m\u001b[0m\n\u001b[0;32m     10\u001b[0m     \u001b[1;32melse\u001b[0m\u001b[1;33m:\u001b[0m\u001b[1;33m\u001b[0m\u001b[1;33m\u001b[0m\u001b[0m\n\u001b[1;32m---> 11\u001b[1;33m         \u001b[0mprint_no_nl\u001b[0m\u001b[1;33m(\u001b[0m\u001b[0mstr\u001b[0m\u001b[1;33m(\u001b[0m\u001b[0ma\u001b[0m\u001b[1;33m)\u001b[0m\u001b[1;33m+\u001b[0m\u001b[1;34m\"*(\"\u001b[0m\u001b[1;33m)\u001b[0m\u001b[1;33m\u001b[0m\u001b[1;33m\u001b[0m\u001b[0m\n\u001b[0m\u001b[0;32m     12\u001b[0m \u001b[1;33m\u001b[0m\u001b[0m\n\u001b[0;32m     13\u001b[0m         \u001b[0ma_to_p_minus_1\u001b[0m \u001b[1;33m=\u001b[0m \u001b[0mrecursive_exponentiation\u001b[0m\u001b[1;33m(\u001b[0m\u001b[0ma\u001b[0m\u001b[1;33m,\u001b[0m\u001b[0mp\u001b[0m\u001b[1;33m-\u001b[0m\u001b[1;36m1\u001b[0m\u001b[1;33m)\u001b[0m\u001b[1;33m\u001b[0m\u001b[1;33m\u001b[0m\u001b[0m\n",
      "\u001b[1;31mNameError\u001b[0m: name 'print_no_nl' is not defined"
     ]
    }
   ],
   "source": [
    "recursive_exponentiation(3,4)"
   ]
  },
  {
   "cell_type": "markdown",
   "metadata": {},
   "source": [
    "Well, is this any good?"
   ]
  },
  {
   "cell_type": "markdown",
   "metadata": {},
   "source": [
    "From an implementation standpoint, probably *not*. Why?\n",
    "- Well, we are going to make a bunch of recursive calls.\n",
    "- Recursive calls are going to be more expensive than looping (iteration)\n",
    "    - a recursive function call is more expensive in *time* and *space* than iteration, generally, because\n",
    "        - updating the counter variable and jumping is going to be quicker than making a new stack frame and returning from it, but this is not a big deal here since they are \"merely\" $O(1)$, a constant, amount of extra time (a simple factor difference of one another)\n",
    "        - the basic recursive approach also needs $O(p)$ extra space because there will be $p+1$ total calls on the stack, i.e.\n",
    "            - the initial call\n",
    "            - and $p$ recursive calls, down to $0$\n",
    "            - none of the calls *pop off the stack* until the \"base case\", $p=0$ case, is hit. (*When* recursive calls \"pop off the stack\" is important to remember when we look at some other strategies, in particular Divide and Conquer). \n",
    "        - This difference *may* be obviated by tail call optimization, depending on\n",
    "            - how you wrote the code\n",
    "            - your compiler and optimization level\n",
    "            - ... but pessimists are rarely disappointed\n",
    "            - (note the iterative version above \"accumulates\" the partial solution in the variable power, which is part of the solution for trickier tail call optimization)\n",
    "\n",
    "\n",
    "\n"
   ]
  },
  {
   "cell_type": "markdown",
   "metadata": {},
   "source": [
    "\\* \"not a big deal\" because we are generally only concerned with non-constant differences between algorithms, e.g. $O(\\log n)$ vs. $O(n)$ vs. $O(n \\log n)$ etc... . We worry about the constant time differences, generally, *only* when we have algorithms of the *same* order of growth, the algorithms have the same \"Big-O\", worst case or average case.\n",
    "\n",
    "I'll harp in this with chapter 2, but one rule of thumb is to \n",
    "> Always pick the most efficient asymptotic growth algorithm algorithm if there is *any* question what the input size will be (or if it can possibly change).\n",
    "\n",
    "A *constant* time difference of even $10$ will not be noticed before the difference between $O(n \\log n)$ and $O(n^2)$ on even modest size inputs, like say a $n=10^6=\\text{\"one million\"}\\approx 2^{20}$. \n"
   ]
  },
  {
   "cell_type": "markdown",
   "metadata": {},
   "source": [
    "Incidentally, the base on logarithms for most algorithms is generally $2$, i.e., $\\log_2 n$ because we generally split in *half*, but that does not matter (proven with chapter 2 limits, e.g. $f(n) = log_2 n, f(n) \\in \\Theta(log_{10} n)$ ), so we can fudge the numbers a bit and just point out that\n",
    "- $n^2=(10^6)^2=10^{12}=1,000,000,000,000$\n",
    "- $n \\log_2 n = 10^6 \\times \\log_2 10^6 \\approx 10^6 \\times \\log_2 2^{20} = 10^6 \\times 20 = 20,000,000$\n",
    "- \"fudge\" here means we will \"ignore the constants\"\n",
    "- \"does not matter\" means to \"within a constant\" again, $O(1)$ difference\n",
    "- Remember: Exponentiation and logarithms are *inverses* of one another, a very relevant fact in this class.\n",
    "- Remember: $f(n) \\in \\Theta(g(n ))$ means $f(n)$ and $g(n)$ have the same **order of growth**, they grow within a constant of one another *asymptotically* (\"as $n$ goes to infinity\" or, informally, \"on large input sizes\").\n",
    "- Do not worry if you forgot or did not quite get this in CSCE 146, we will review this carefully with chapter 2, soon."
   ]
  },
  {
   "cell_type": "markdown",
   "metadata": {},
   "source": [
    "Let's look at an output again:"
   ]
  },
  {
   "cell_type": "code",
   "execution_count": null,
   "metadata": {},
   "outputs": [],
   "source": [
    "recursive_exponentiation(3,4)"
   ]
  },
  {
   "cell_type": "markdown",
   "metadata": {},
   "source": [
    "Okay, from a theoretical standpoint, did the the Decrease-by-a-Constant-and-Conquer approach help us?\n",
    "\n",
    "It might, if you look at the explicit parethesization and you remember the associative property of multiplication, basically meaning we can do the multiplications in any order (by \"moving the parentheses\"). So, maybe we try a Divide and Conquer Approach, and solve it like this:\n",
    "\n",
    "$3^4 = (3^2)*(3^2) = ((3^1)*(3^1))*((3^1)*(3^1)) = 81$\n",
    "\n",
    "or, more generally,\n",
    "\n",
    "$a^p = \\begin{cases} a^{\\lceil \\frac{p}{2} \\rceil}\\times a^{\\lfloor \\frac{p}{2} \\rfloor} & p>1 \\\\ a & p =1 \\\\ 1 &p =0 \\end{cases} $"
   ]
  },
  {
   "cell_type": "code",
   "execution_count": 14,
   "metadata": {},
   "outputs": [],
   "source": [
    "import math\n",
    "\n",
    "def divide_and_conq_exponentiation(a,p):\n",
    "    \"\"\"\n",
    "    Divide and conquer, basic recursive approach to exponentiation\n",
    "    a -- the number being raised to a power\n",
    "    p -- the non-negative, integral power a is being raised to\n",
    "    \"\"\"\n",
    "    if p > 1:\n",
    "        print_no_nl(\"(\")\n",
    "        a_to_ceiling_half_p = divide_and_conq_exponentiation(a,math.ceil(p/2))\n",
    "        print_no_nl(\")*(\")\n",
    "        a_to_floor_half_p = divide_and_conq_exponentiation(a,math.floor(p/2))\n",
    "        print_no_nl(\")\")\n",
    "        return a_to_ceiling_half_p * a_to_floor_half_p\n",
    "    elif p == 1:\n",
    "        print_no_nl(a)\n",
    "        return a\n",
    "    elif p == 0:\n",
    "        print_no_nl(1)\n",
    "        return 1\n",
    "    else:         \n",
    "        raise Exception(\"p must be integral and nonnegative\")"
   ]
  },
  {
   "cell_type": "code",
   "execution_count": 15,
   "metadata": {},
   "outputs": [
    {
     "output_type": "error",
     "ename": "NameError",
     "evalue": "name 'print_no_nl' is not defined",
     "traceback": [
      "\u001b[1;31m---------------------------------------------------------------------------\u001b[0m",
      "\u001b[1;31mNameError\u001b[0m                                 Traceback (most recent call last)",
      "\u001b[1;32m<ipython-input-15-3106baa66459>\u001b[0m in \u001b[0;36m<module>\u001b[1;34m\u001b[0m\n\u001b[1;32m----> 1\u001b[1;33m \u001b[0mdivide_and_conq_exponentiation\u001b[0m\u001b[1;33m(\u001b[0m\u001b[1;36m3\u001b[0m\u001b[1;33m,\u001b[0m\u001b[1;36m4\u001b[0m\u001b[1;33m)\u001b[0m\u001b[1;33m\u001b[0m\u001b[1;33m\u001b[0m\u001b[0m\n\u001b[0m",
      "\u001b[1;32m<ipython-input-14-9f65742ce12e>\u001b[0m in \u001b[0;36mdivide_and_conq_exponentiation\u001b[1;34m(a, p)\u001b[0m\n\u001b[0;32m      8\u001b[0m     \"\"\"\n\u001b[0;32m      9\u001b[0m     \u001b[1;32mif\u001b[0m \u001b[0mp\u001b[0m \u001b[1;33m>\u001b[0m \u001b[1;36m1\u001b[0m\u001b[1;33m:\u001b[0m\u001b[1;33m\u001b[0m\u001b[1;33m\u001b[0m\u001b[0m\n\u001b[1;32m---> 10\u001b[1;33m         \u001b[0mprint_no_nl\u001b[0m\u001b[1;33m(\u001b[0m\u001b[1;34m\"(\"\u001b[0m\u001b[1;33m)\u001b[0m\u001b[1;33m\u001b[0m\u001b[1;33m\u001b[0m\u001b[0m\n\u001b[0m\u001b[0;32m     11\u001b[0m         \u001b[0ma_to_ceiling_half_p\u001b[0m \u001b[1;33m=\u001b[0m \u001b[0mdivide_and_conq_exponentiation\u001b[0m\u001b[1;33m(\u001b[0m\u001b[0ma\u001b[0m\u001b[1;33m,\u001b[0m\u001b[0mmath\u001b[0m\u001b[1;33m.\u001b[0m\u001b[0mceil\u001b[0m\u001b[1;33m(\u001b[0m\u001b[0mp\u001b[0m\u001b[1;33m/\u001b[0m\u001b[1;36m2\u001b[0m\u001b[1;33m)\u001b[0m\u001b[1;33m)\u001b[0m\u001b[1;33m\u001b[0m\u001b[1;33m\u001b[0m\u001b[0m\n\u001b[0;32m     12\u001b[0m         \u001b[0mprint_no_nl\u001b[0m\u001b[1;33m(\u001b[0m\u001b[1;34m\")*(\"\u001b[0m\u001b[1;33m)\u001b[0m\u001b[1;33m\u001b[0m\u001b[1;33m\u001b[0m\u001b[0m\n",
      "\u001b[1;31mNameError\u001b[0m: name 'print_no_nl' is not defined"
     ]
    }
   ],
   "source": [
    "divide_and_conq_exponentiation(3,4)"
   ]
  },
  {
   "cell_type": "markdown",
   "metadata": {},
   "source": [
    "So, is this Divide and Conquer approach any good? It still \n",
    "1. has the same number of multiplies,\n",
    "2. and is recursive\n",
    "so was there any benefit?\n",
    "\n",
    "There was, actually, versus the Decrease by 1 and Conquer version. It uses less memory for large powers. If you think about recursion temporally, then we actually only have to worry about the *depth* of recursion for this w.r.t. (\"with respect to\") space, though it will still be linear time, $\\Theta(n)$.\n",
    "\n",
    "It is obvious that the Decrease by 1 and Conquer version, when it gets to the base case of "
   ]
  },
  {
   "cell_type": "code",
   "execution_count": 13,
   "metadata": {},
   "outputs": [
    {
     "output_type": "error",
     "ename": "NameError",
     "evalue": "name 'recursive_exponentiation' is not defined",
     "traceback": [
      "\u001b[1;31m---------------------------------------------------------------------------\u001b[0m",
      "\u001b[1;31mNameError\u001b[0m                                 Traceback (most recent call last)",
      "\u001b[1;32m<ipython-input-13-91280662636f>\u001b[0m in \u001b[0;36m<module>\u001b[1;34m\u001b[0m\n\u001b[1;32m----> 1\u001b[1;33m \u001b[0mrecursive_exponentiation\u001b[0m\u001b[1;33m(\u001b[0m\u001b[1;36m3\u001b[0m\u001b[1;33m,\u001b[0m\u001b[1;36m5\u001b[0m\u001b[1;33m)\u001b[0m\u001b[1;33m\u001b[0m\u001b[1;33m\u001b[0m\u001b[0m\n\u001b[0m",
      "\u001b[1;31mNameError\u001b[0m: name 'recursive_exponentiation' is not defined"
     ]
    }
   ],
   "source": [
    "recursive_exponentiation(3,5)"
   ]
  },
  {
   "cell_type": "markdown",
   "metadata": {},
   "source": [
    "will have a stack like"
   ]
  },
  {
   "cell_type": "code",
   "execution_count": 1,
   "metadata": {},
   "outputs": [
    {
     "output_type": "display_data",
     "data": {
      "text/plain": "<graphviz.dot.Digraph at 0x1d8d9b6b640>",
      "image/svg+xml": "<?xml version=\"1.0\" encoding=\"UTF-8\" standalone=\"no\"?>\r\n<!DOCTYPE svg PUBLIC \"-//W3C//DTD SVG 1.1//EN\"\r\n \"http://www.w3.org/Graphics/SVG/1.1/DTD/svg11.dtd\">\r\n<!-- Generated by graphviz version 2.46.0 (20210118.1747)\r\n -->\r\n<!-- Pages: 1 -->\r\n<svg width=\"62pt\" height=\"404pt\"\r\n viewBox=\"0.00 0.00 62.00 404.00\" xmlns=\"http://www.w3.org/2000/svg\" xmlns:xlink=\"http://www.w3.org/1999/xlink\">\r\n<g id=\"graph0\" class=\"graph\" transform=\"scale(1 1) rotate(0) translate(4 400)\">\r\n<polygon fill=\"white\" stroke=\"transparent\" points=\"-4,4 -4,-400 58,-400 58,4 -4,4\"/>\r\n<!-- p5 -->\r\n<g id=\"node1\" class=\"node\">\r\n<title>p5</title>\r\n<ellipse fill=\"none\" stroke=\"black\" cx=\"27\" cy=\"-378\" rx=\"27\" ry=\"18\"/>\r\n<text text-anchor=\"middle\" x=\"27\" y=\"-374.3\" font-family=\"Times New Roman,serif\" font-size=\"14.00\">3^5</text>\r\n</g>\r\n<!-- p4 -->\r\n<g id=\"node2\" class=\"node\">\r\n<title>p4</title>\r\n<ellipse fill=\"none\" stroke=\"black\" cx=\"27\" cy=\"-306\" rx=\"27\" ry=\"18\"/>\r\n<text text-anchor=\"middle\" x=\"27\" y=\"-302.3\" font-family=\"Times New Roman,serif\" font-size=\"14.00\">3^4</text>\r\n</g>\r\n<!-- p5&#45;&gt;p4 -->\r\n<g id=\"edge1\" class=\"edge\">\r\n<title>p5&#45;&gt;p4</title>\r\n<path fill=\"none\" stroke=\"black\" d=\"M27,-359.7C27,-351.98 27,-342.71 27,-334.11\"/>\r\n<polygon fill=\"black\" stroke=\"black\" points=\"30.5,-334.1 27,-324.1 23.5,-334.1 30.5,-334.1\"/>\r\n</g>\r\n<!-- p3 -->\r\n<g id=\"node3\" class=\"node\">\r\n<title>p3</title>\r\n<ellipse fill=\"none\" stroke=\"black\" cx=\"27\" cy=\"-234\" rx=\"27\" ry=\"18\"/>\r\n<text text-anchor=\"middle\" x=\"27\" y=\"-230.3\" font-family=\"Times New Roman,serif\" font-size=\"14.00\">3^3</text>\r\n</g>\r\n<!-- p4&#45;&gt;p3 -->\r\n<g id=\"edge2\" class=\"edge\">\r\n<title>p4&#45;&gt;p3</title>\r\n<path fill=\"none\" stroke=\"black\" d=\"M27,-287.7C27,-279.98 27,-270.71 27,-262.11\"/>\r\n<polygon fill=\"black\" stroke=\"black\" points=\"30.5,-262.1 27,-252.1 23.5,-262.1 30.5,-262.1\"/>\r\n</g>\r\n<!-- p2 -->\r\n<g id=\"node4\" class=\"node\">\r\n<title>p2</title>\r\n<ellipse fill=\"none\" stroke=\"black\" cx=\"27\" cy=\"-162\" rx=\"27\" ry=\"18\"/>\r\n<text text-anchor=\"middle\" x=\"27\" y=\"-158.3\" font-family=\"Times New Roman,serif\" font-size=\"14.00\">3^2</text>\r\n</g>\r\n<!-- p3&#45;&gt;p2 -->\r\n<g id=\"edge3\" class=\"edge\">\r\n<title>p3&#45;&gt;p2</title>\r\n<path fill=\"none\" stroke=\"black\" d=\"M27,-215.7C27,-207.98 27,-198.71 27,-190.11\"/>\r\n<polygon fill=\"black\" stroke=\"black\" points=\"30.5,-190.1 27,-180.1 23.5,-190.1 30.5,-190.1\"/>\r\n</g>\r\n<!-- p1 -->\r\n<g id=\"node5\" class=\"node\">\r\n<title>p1</title>\r\n<ellipse fill=\"none\" stroke=\"black\" cx=\"27\" cy=\"-90\" rx=\"27\" ry=\"18\"/>\r\n<text text-anchor=\"middle\" x=\"27\" y=\"-86.3\" font-family=\"Times New Roman,serif\" font-size=\"14.00\">3^1</text>\r\n</g>\r\n<!-- p2&#45;&gt;p1 -->\r\n<g id=\"edge4\" class=\"edge\">\r\n<title>p2&#45;&gt;p1</title>\r\n<path fill=\"none\" stroke=\"black\" d=\"M27,-143.7C27,-135.98 27,-126.71 27,-118.11\"/>\r\n<polygon fill=\"black\" stroke=\"black\" points=\"30.5,-118.1 27,-108.1 23.5,-118.1 30.5,-118.1\"/>\r\n</g>\r\n<!-- p0 -->\r\n<g id=\"node6\" class=\"node\">\r\n<title>p0</title>\r\n<ellipse fill=\"none\" stroke=\"black\" cx=\"27\" cy=\"-18\" rx=\"27\" ry=\"18\"/>\r\n<text text-anchor=\"middle\" x=\"27\" y=\"-14.3\" font-family=\"Times New Roman,serif\" font-size=\"14.00\">3^0</text>\r\n</g>\r\n<!-- p1&#45;&gt;p0 -->\r\n<g id=\"edge5\" class=\"edge\">\r\n<title>p1&#45;&gt;p0</title>\r\n<path fill=\"none\" stroke=\"black\" d=\"M27,-71.7C27,-63.98 27,-54.71 27,-46.11\"/>\r\n<polygon fill=\"black\" stroke=\"black\" points=\"30.5,-46.1 27,-36.1 23.5,-46.1 30.5,-46.1\"/>\r\n</g>\r\n</g>\r\n</svg>\r\n"
     },
     "metadata": {}
    }
   ],
   "source": [
    "from graphviz import Digraph\n",
    "\n",
    "dot = Digraph()\n",
    "\n",
    "dot.node('p5','3^5')\n",
    "dot.node('p4','3^4')\n",
    "dot.node('p3','3^3')\n",
    "dot.node('p2','3^2')\n",
    "dot.node('p1','3^1')\n",
    "dot.node('p0','3^0')\n",
    "\n",
    "dot.edge('p5','p4')\n",
    "dot.edge('p4','p3')\n",
    "dot.edge('p3','p2')\n",
    "dot.edge('p2','p1')\n",
    "dot.edge('p1','p0')\n",
    "\n",
    "\n",
    "display(dot)"
   ]
  },
  {
   "cell_type": "markdown",
   "metadata": {},
   "source": [
    "or"
   ]
  },
  {
   "cell_type": "code",
   "execution_count": 2,
   "metadata": {},
   "outputs": [
    {
     "output_type": "display_data",
     "data": {
      "text/plain": "<graphviz.dot.Digraph at 0x1d8d9b7b790>",
      "image/svg+xml": "<?xml version=\"1.0\" encoding=\"UTF-8\" standalone=\"no\"?>\r\n<!DOCTYPE svg PUBLIC \"-//W3C//DTD SVG 1.1//EN\"\r\n \"http://www.w3.org/Graphics/SVG/1.1/DTD/svg11.dtd\">\r\n<!-- Generated by graphviz version 2.46.0 (20210118.1747)\r\n -->\r\n<!-- Pages: 1 -->\r\n<svg width=\"62pt\" height=\"147pt\"\r\n viewBox=\"0.00 0.00 62.00 147.00\" xmlns=\"http://www.w3.org/2000/svg\" xmlns:xlink=\"http://www.w3.org/1999/xlink\">\r\n<g id=\"graph0\" class=\"graph\" transform=\"scale(1 1) rotate(0) translate(4 143)\">\r\n<polygon fill=\"white\" stroke=\"transparent\" points=\"-4,4 -4,-143 58,-143 58,4 -4,4\"/>\r\n<g id=\"node1\" class=\"node\">\r\n<title></title>\r\n<polygon fill=\"none\" stroke=\"black\" points=\"0,-0.5 0,-138.5 54,-138.5 54,-0.5 0,-0.5\"/>\r\n<text text-anchor=\"middle\" x=\"27\" y=\"-123.3\" font-family=\"Times New Roman,serif\" font-size=\"14.00\">3^0</text>\r\n<polyline fill=\"none\" stroke=\"black\" points=\"0,-115.5 54,-115.5 \"/>\r\n<text text-anchor=\"middle\" x=\"27\" y=\"-100.3\" font-family=\"Times New Roman,serif\" font-size=\"14.00\">3^1</text>\r\n<polyline fill=\"none\" stroke=\"black\" points=\"0,-92.5 54,-92.5 \"/>\r\n<text text-anchor=\"middle\" x=\"27\" y=\"-77.3\" font-family=\"Times New Roman,serif\" font-size=\"14.00\">3^2</text>\r\n<polyline fill=\"none\" stroke=\"black\" points=\"0,-69.5 54,-69.5 \"/>\r\n<text text-anchor=\"middle\" x=\"27\" y=\"-54.3\" font-family=\"Times New Roman,serif\" font-size=\"14.00\">3^3</text>\r\n<polyline fill=\"none\" stroke=\"black\" points=\"0,-46.5 54,-46.5 \"/>\r\n<text text-anchor=\"middle\" x=\"27\" y=\"-31.3\" font-family=\"Times New Roman,serif\" font-size=\"14.00\">3^4</text>\r\n<polyline fill=\"none\" stroke=\"black\" points=\"0,-23.5 54,-23.5 \"/>\r\n<text text-anchor=\"middle\" x=\"27\" y=\"-8.3\" font-family=\"Times New Roman,serif\" font-size=\"14.00\">3^5</text>\r\n</g>\r\n</g>\r\n</svg>\r\n"
     },
     "metadata": {}
    }
   ],
   "source": [
    "dot = Digraph()\n",
    "\n",
    "dot.node(\"\",\"{3^0 | 3^1 | 3^2 | 3^3 | 3^4 | 3^5}\",shape='record')\n",
    "\n",
    "\n",
    "\n",
    "display(dot)"
   ]
  },
  {
   "cell_type": "markdown",
   "metadata": {},
   "source": [
    "and "
   ]
  },
  {
   "cell_type": "code",
   "execution_count": null,
   "metadata": {},
   "outputs": [],
   "source": [
    "divide_and_conq_exponentiation(3,5)"
   ]
  },
  {
   "cell_type": "markdown",
   "metadata": {},
   "source": [
    "will, accumulated *over time*, have something that looks like "
   ]
  },
  {
   "cell_type": "code",
   "execution_count": 3,
   "metadata": {},
   "outputs": [
    {
     "output_type": "display_data",
     "data": {
      "text/plain": "<graphviz.dot.Digraph at 0x1d8d9b6b9a0>",
      "image/svg+xml": "<?xml version=\"1.0\" encoding=\"UTF-8\" standalone=\"no\"?>\r\n<!DOCTYPE svg PUBLIC \"-//W3C//DTD SVG 1.1//EN\"\r\n \"http://www.w3.org/Graphics/SVG/1.1/DTD/svg11.dtd\">\r\n<!-- Generated by graphviz version 2.46.0 (20210118.1747)\r\n -->\r\n<!-- Pages: 1 -->\r\n<svg width=\"314pt\" height=\"260pt\"\r\n viewBox=\"0.00 0.00 314.00 260.00\" xmlns=\"http://www.w3.org/2000/svg\" xmlns:xlink=\"http://www.w3.org/1999/xlink\">\r\n<g id=\"graph0\" class=\"graph\" transform=\"scale(1 1) rotate(0) translate(4 256)\">\r\n<polygon fill=\"white\" stroke=\"transparent\" points=\"-4,4 -4,-256 310,-256 310,4 -4,4\"/>\r\n<!-- p5 -->\r\n<g id=\"node1\" class=\"node\">\r\n<title>p5</title>\r\n<ellipse fill=\"none\" stroke=\"black\" cx=\"171\" cy=\"-234\" rx=\"27\" ry=\"18\"/>\r\n<text text-anchor=\"middle\" x=\"171\" y=\"-230.3\" font-family=\"Times New Roman,serif\" font-size=\"14.00\">3^5</text>\r\n</g>\r\n<!-- p3 -->\r\n<g id=\"node2\" class=\"node\">\r\n<title>p3</title>\r\n<ellipse fill=\"none\" stroke=\"black\" cx=\"135\" cy=\"-162\" rx=\"27\" ry=\"18\"/>\r\n<text text-anchor=\"middle\" x=\"135\" y=\"-158.3\" font-family=\"Times New Roman,serif\" font-size=\"14.00\">3^3</text>\r\n</g>\r\n<!-- p5&#45;&gt;p3 -->\r\n<g id=\"edge1\" class=\"edge\">\r\n<title>p5&#45;&gt;p3</title>\r\n<path fill=\"none\" stroke=\"black\" d=\"M162.65,-216.76C158.29,-208.28 152.85,-197.71 147.96,-188.2\"/>\r\n<polygon fill=\"black\" stroke=\"black\" points=\"150.99,-186.44 143.3,-179.15 144.77,-189.64 150.99,-186.44\"/>\r\n</g>\r\n<!-- p2r -->\r\n<g id=\"node4\" class=\"node\">\r\n<title>p2r</title>\r\n<ellipse fill=\"none\" stroke=\"black\" cx=\"207\" cy=\"-162\" rx=\"27\" ry=\"18\"/>\r\n<text text-anchor=\"middle\" x=\"207\" y=\"-158.3\" font-family=\"Times New Roman,serif\" font-size=\"14.00\">3^2</text>\r\n</g>\r\n<!-- p5&#45;&gt;p2r -->\r\n<g id=\"edge6\" class=\"edge\">\r\n<title>p5&#45;&gt;p2r</title>\r\n<path fill=\"none\" stroke=\"black\" d=\"M179.35,-216.76C183.71,-208.28 189.15,-197.71 194.04,-188.2\"/>\r\n<polygon fill=\"black\" stroke=\"black\" points=\"197.23,-189.64 198.7,-179.15 191.01,-186.44 197.23,-189.64\"/>\r\n</g>\r\n<!-- p2ll -->\r\n<g id=\"node3\" class=\"node\">\r\n<title>p2ll</title>\r\n<ellipse fill=\"none\" stroke=\"black\" cx=\"63\" cy=\"-90\" rx=\"27\" ry=\"18\"/>\r\n<text text-anchor=\"middle\" x=\"63\" y=\"-86.3\" font-family=\"Times New Roman,serif\" font-size=\"14.00\">3^2</text>\r\n</g>\r\n<!-- p3&#45;&gt;p2ll -->\r\n<g id=\"edge2\" class=\"edge\">\r\n<title>p3&#45;&gt;p2ll</title>\r\n<path fill=\"none\" stroke=\"black\" d=\"M120.43,-146.83C110.25,-136.94 96.48,-123.55 84.97,-112.36\"/>\r\n<polygon fill=\"black\" stroke=\"black\" points=\"87.41,-109.85 77.8,-105.38 82.53,-114.87 87.41,-109.85\"/>\r\n</g>\r\n<!-- p1lr -->\r\n<g id=\"node7\" class=\"node\">\r\n<title>p1lr</title>\r\n<ellipse fill=\"none\" stroke=\"black\" cx=\"135\" cy=\"-90\" rx=\"27\" ry=\"18\"/>\r\n<text text-anchor=\"middle\" x=\"135\" y=\"-86.3\" font-family=\"Times New Roman,serif\" font-size=\"14.00\">3^1</text>\r\n</g>\r\n<!-- p3&#45;&gt;p1lr -->\r\n<g id=\"edge5\" class=\"edge\">\r\n<title>p3&#45;&gt;p1lr</title>\r\n<path fill=\"none\" stroke=\"black\" d=\"M135,-143.7C135,-135.98 135,-126.71 135,-118.11\"/>\r\n<polygon fill=\"black\" stroke=\"black\" points=\"138.5,-118.1 135,-108.1 131.5,-118.1 138.5,-118.1\"/>\r\n</g>\r\n<!-- p1lll -->\r\n<g id=\"node5\" class=\"node\">\r\n<title>p1lll</title>\r\n<ellipse fill=\"none\" stroke=\"black\" cx=\"27\" cy=\"-18\" rx=\"27\" ry=\"18\"/>\r\n<text text-anchor=\"middle\" x=\"27\" y=\"-14.3\" font-family=\"Times New Roman,serif\" font-size=\"14.00\">3^1</text>\r\n</g>\r\n<!-- p2ll&#45;&gt;p1lll -->\r\n<g id=\"edge3\" class=\"edge\">\r\n<title>p2ll&#45;&gt;p1lll</title>\r\n<path fill=\"none\" stroke=\"black\" d=\"M54.65,-72.76C50.29,-64.28 44.85,-53.71 39.96,-44.2\"/>\r\n<polygon fill=\"black\" stroke=\"black\" points=\"42.99,-42.44 35.3,-35.15 36.77,-45.64 42.99,-42.44\"/>\r\n</g>\r\n<!-- p1llr -->\r\n<g id=\"node6\" class=\"node\">\r\n<title>p1llr</title>\r\n<ellipse fill=\"none\" stroke=\"black\" cx=\"99\" cy=\"-18\" rx=\"27\" ry=\"18\"/>\r\n<text text-anchor=\"middle\" x=\"99\" y=\"-14.3\" font-family=\"Times New Roman,serif\" font-size=\"14.00\">3^1</text>\r\n</g>\r\n<!-- p2ll&#45;&gt;p1llr -->\r\n<g id=\"edge4\" class=\"edge\">\r\n<title>p2ll&#45;&gt;p1llr</title>\r\n<path fill=\"none\" stroke=\"black\" d=\"M71.35,-72.76C75.71,-64.28 81.15,-53.71 86.04,-44.2\"/>\r\n<polygon fill=\"black\" stroke=\"black\" points=\"89.23,-45.64 90.7,-35.15 83.01,-42.44 89.23,-45.64\"/>\r\n</g>\r\n<!-- p1rr -->\r\n<g id=\"node8\" class=\"node\">\r\n<title>p1rr</title>\r\n<ellipse fill=\"none\" stroke=\"black\" cx=\"207\" cy=\"-90\" rx=\"27\" ry=\"18\"/>\r\n<text text-anchor=\"middle\" x=\"207\" y=\"-86.3\" font-family=\"Times New Roman,serif\" font-size=\"14.00\">3^1</text>\r\n</g>\r\n<!-- p2r&#45;&gt;p1rr -->\r\n<g id=\"edge8\" class=\"edge\">\r\n<title>p2r&#45;&gt;p1rr</title>\r\n<path fill=\"none\" stroke=\"black\" d=\"M207,-143.7C207,-135.98 207,-126.71 207,-118.11\"/>\r\n<polygon fill=\"black\" stroke=\"black\" points=\"210.5,-118.1 207,-108.1 203.5,-118.1 210.5,-118.1\"/>\r\n</g>\r\n<!-- p1rl -->\r\n<g id=\"node9\" class=\"node\">\r\n<title>p1rl</title>\r\n<ellipse fill=\"none\" stroke=\"black\" cx=\"279\" cy=\"-90\" rx=\"27\" ry=\"18\"/>\r\n<text text-anchor=\"middle\" x=\"279\" y=\"-86.3\" font-family=\"Times New Roman,serif\" font-size=\"14.00\">3^1</text>\r\n</g>\r\n<!-- p2r&#45;&gt;p1rl -->\r\n<g id=\"edge7\" class=\"edge\">\r\n<title>p2r&#45;&gt;p1rl</title>\r\n<path fill=\"none\" stroke=\"black\" d=\"M221.57,-146.83C231.75,-136.94 245.52,-123.55 257.03,-112.36\"/>\r\n<polygon fill=\"black\" stroke=\"black\" points=\"259.47,-114.87 264.2,-105.38 254.59,-109.85 259.47,-114.87\"/>\r\n</g>\r\n</g>\r\n</svg>\r\n"
     },
     "metadata": {}
    }
   ],
   "source": [
    "dot = Digraph()\n",
    "\n",
    "dot.node('p5','3^5')\n",
    "dot.node('p3','3^3')\n",
    "dot.node('p2ll','3^2')\n",
    "dot.node('p2r','3^2')\n",
    "dot.node('p1lll','3^1')\n",
    "dot.node('p1llr','3^1')\n",
    "dot.node('p1lr','3^1')\n",
    "dot.node('p1rr','3^1')\n",
    "dot.node('p1rl','3^1')\n",
    "\n",
    "dot.edge('p5','p3')\n",
    "dot.edge('p3','p2ll')\n",
    "dot.edge('p2ll','p1lll')\n",
    "dot.edge('p2ll','p1llr')\n",
    "dot.edge('p3','p1lr')\n",
    "dot.edge('p5','p2r')\n",
    "dot.edge('p2r','p1rl')\n",
    "dot.edge('p2r','p1rr')\n",
    "\n",
    "\n",
    "display(dot)"
   ]
  },
  {
   "cell_type": "markdown",
   "metadata": {},
   "source": [
    "Incidentally, the above tree is actually good for understanding the *time* cost of this approach \n",
    "- each internal node corresponds to a multiply\n",
    "- each leaf is a base case\n",
    "- not-so-formally, the logarithmic number of layers (from repeated division by $2$) is \"cancelling out\" the exponential growth in the number of nodes at each layer  \n",
    "\n",
    "Regarding *space* complexity, \n",
    "- this is a little misleading -- not all nodes exist at one time (in memory).\n",
    "- what probably exists, for this algorithm, is one root-to-node path at a time."
   ]
  },
  {
   "cell_type": "markdown",
   "metadata": {},
   "source": [
    "But, over time it looks more like"
   ]
  },
  {
   "cell_type": "code",
   "execution_count": null,
   "metadata": {
    "scrolled": false
   },
   "outputs": [],
   "source": [
    "dot = Digraph()\n",
    "\n",
    "dot.node('p5','3^5')\n",
    "dot.node('p3','3^3')\n",
    "\n",
    "\n",
    "dot.edge('p5','p3')\n",
    "\n",
    "\n",
    "\n",
    "display(dot)\n",
    "\n",
    "dot = Digraph()\n",
    "\n",
    "dot.node('p5','3^5')\n",
    "dot.node('p3','3^3')\n",
    "dot.node('p2ll','3^2')\n",
    "\n",
    "\n",
    "dot.edge('p5','p3')\n",
    "dot.edge('p3','p2ll')\n",
    "\n",
    "display(dot)\n",
    "\n",
    "dot = Digraph()\n",
    "\n",
    "dot.node('p5','3^5')\n",
    "dot.node('p3','3^3')\n",
    "dot.node('p2ll','3^2')\n",
    "dot.node('p1lll','3^1')\n",
    "\n",
    "dot.edge('p5','p3')\n",
    "dot.edge('p3','p2ll')\n",
    "dot.edge('p2ll','p1lll')\n",
    "\n",
    "display(dot)\n",
    "\n",
    "dot = Digraph()\n",
    "\n",
    "dot.node('p5','3^5')\n",
    "dot.node('p3','3^3')\n",
    "dot.node('p2ll','3^2')\n",
    "\n",
    "dot.edge('p5','p3')\n",
    "dot.edge('p3','p2ll')\n",
    "\n",
    "display(dot)\n",
    "\n",
    "dot = Digraph()\n",
    "\n",
    "dot.node('p5','3^5')\n",
    "dot.node('p3','3^3')\n",
    "dot.node('p2ll','3^2')\n",
    "dot.node('p1llr','3^1')\n",
    "\n",
    "dot.edge('p5','p3')\n",
    "dot.edge('p3','p2ll')\n",
    "dot.edge('p2ll','p1llr')\n",
    "\n",
    "display(dot)\n",
    "\n",
    "dot = Digraph()\n",
    "\n",
    "dot.node('p5','3^5')\n",
    "dot.node('p3','3^3')\n",
    "dot.node('p2ll','3^2')\n",
    "\n",
    "dot.edge('p5','p3')\n",
    "dot.edge('p3','p2ll')\n",
    "\n",
    "display(dot)\n",
    "\n",
    "dot = Digraph()\n",
    "\n",
    "dot.node('p5','3^5')\n",
    "dot.node('p3','3^3')\n",
    "\n",
    "dot.edge('p5','p3')\n",
    "\n",
    "\n",
    "\n",
    "display(dot)\n",
    "\n",
    "dot = Digraph()\n",
    "\n",
    "dot.node('p5','3^5')\n",
    "dot.node('p3','3^3')\n",
    "dot.node('p1lr','3^1')\n",
    "\n",
    "dot.edge('p5','p3')\n",
    "dot.edge('p3','p1lr')\n",
    "\n",
    "\n",
    "\n",
    "display(dot)\n",
    "\n",
    "dot = Digraph()\n",
    "\n",
    "dot.node('p5','3^5')\n",
    "dot.node('p3','3^3')\n",
    "\n",
    "\n",
    "dot.edge('p5','p3')\n",
    "\n",
    "display(dot)\n",
    "\n",
    "dot = Digraph()\n",
    "\n",
    "dot.node('p5','3^5')\n",
    "\n",
    "\n",
    "display(dot)\n",
    "\n",
    "dot = Digraph()\n",
    "\n",
    "dot.node('p5','3^5')\n",
    "dot.node('p2r','3^2')\n",
    "\n",
    "\n",
    "dot.edge('p5','p2r')\n",
    "\n",
    "\n",
    "display(dot)\n",
    "\n",
    "dot = Digraph()\n",
    "\n",
    "dot.node('p5','3^5')\n",
    "dot.node('p2r','3^2')\n",
    "dot.node('p1rl','3^1')\n",
    "\n",
    "\n",
    "dot.edge('p5','p2r')\n",
    "dot.edge('p2r','p1rl')\n",
    "\n",
    "\n",
    "display(dot)\n",
    "\n",
    "\n",
    "\n",
    "dot = Digraph()\n",
    "\n",
    "dot.node('p5','3^5')\n",
    "dot.node('p2r','3^2')\n",
    "\n",
    "\n",
    "dot.edge('p5','p2r')\n",
    "\n",
    "\n",
    "display(dot)\n",
    "\n",
    "dot = Digraph()\n",
    "\n",
    "dot.node('p5','3^5')\n",
    "dot.node('p2r','3^2')\n",
    "dot.node('p1rr','3^1')\n",
    "\n",
    "\n",
    "dot.edge('p5','p2r')\n",
    "dot.edge('p2r','p1rr')\n",
    "\n",
    "\n",
    "display(dot)\n",
    "\n",
    "dot = Digraph()\n",
    "\n",
    "dot.node('p5','3^5')\n",
    "dot.node('p2r','3^2')\n",
    "\n",
    "dot.edge('p5','p2r')\n",
    "\n",
    "display(dot)\n",
    "\n",
    "dot = Digraph()\n",
    "\n",
    "dot.node('p5','3^5')\n",
    "\n",
    "\n",
    "display(dot)"
   ]
  },
  {
   "cell_type": "markdown",
   "metadata": {},
   "source": [
    "...perhaps better drawn as:"
   ]
  },
  {
   "cell_type": "code",
   "execution_count": 4,
   "metadata": {},
   "outputs": [
    {
     "output_type": "display_data",
     "data": {
      "text/plain": "<graphviz.dot.Digraph at 0x1d8d9b6b670>",
      "image/svg+xml": "<?xml version=\"1.0\" encoding=\"UTF-8\" standalone=\"no\"?>\r\n<!DOCTYPE svg PUBLIC \"-//W3C//DTD SVG 1.1//EN\"\r\n \"http://www.w3.org/Graphics/SVG/1.1/DTD/svg11.dtd\">\r\n<!-- Generated by graphviz version 2.46.0 (20210118.1747)\r\n -->\r\n<!-- Pages: 1 -->\r\n<svg width=\"72pt\" height=\"1896pt\"\r\n viewBox=\"0.00 0.00 71.69 1896.00\" xmlns=\"http://www.w3.org/2000/svg\" xmlns:xlink=\"http://www.w3.org/1999/xlink\">\r\n<g id=\"graph0\" class=\"graph\" transform=\"scale(1 1) rotate(0) translate(4 1892)\">\r\n<polygon fill=\"white\" stroke=\"transparent\" points=\"-4,4 -4,-1892 67.69,-1892 67.69,4 -4,4\"/>\r\n<!-- 1 -->\r\n<g id=\"node1\" class=\"node\">\r\n<title>1</title>\r\n<polygon fill=\"none\" stroke=\"black\" points=\"4.85,-1851.5 4.85,-1887.5 58.85,-1887.5 58.85,-1851.5 4.85,-1851.5\"/>\r\n<text text-anchor=\"middle\" x=\"31.85\" y=\"-1865.8\" font-family=\"Times New Roman,serif\" font-size=\"14.00\">3^5</text>\r\n</g>\r\n<!-- 2 -->\r\n<g id=\"node2\" class=\"node\">\r\n<title>2</title>\r\n<polygon fill=\"none\" stroke=\"black\" points=\"4.85,-1753.5 4.85,-1799.5 58.85,-1799.5 58.85,-1753.5 4.85,-1753.5\"/>\r\n<text text-anchor=\"middle\" x=\"31.85\" y=\"-1784.3\" font-family=\"Times New Roman,serif\" font-size=\"14.00\">3^3</text>\r\n<polyline fill=\"none\" stroke=\"black\" points=\"4.85,-1776.5 58.85,-1776.5 \"/>\r\n<text text-anchor=\"middle\" x=\"31.85\" y=\"-1761.3\" font-family=\"Times New Roman,serif\" font-size=\"14.00\">3^5</text>\r\n</g>\r\n<!-- 1&#45;&gt;2 -->\r\n<g id=\"edge1\" class=\"edge\">\r\n<title>1&#45;&gt;2</title>\r\n<path fill=\"none\" stroke=\"black\" d=\"M31.85,-1851.38C31.85,-1839.73 31.85,-1823.95 31.85,-1809.96\"/>\r\n<polygon fill=\"black\" stroke=\"black\" points=\"35.35,-1809.71 31.85,-1799.71 28.35,-1809.71 35.35,-1809.71\"/>\r\n<text text-anchor=\"middle\" x=\"45.85\" y=\"-1821.8\" font-family=\"Times New Roman,serif\" font-size=\"14.00\">push</text>\r\n</g>\r\n<!-- 3 -->\r\n<g id=\"node3\" class=\"node\">\r\n<title>3</title>\r\n<polygon fill=\"none\" stroke=\"black\" points=\"4.85,-1632.5 4.85,-1701.5 58.85,-1701.5 58.85,-1632.5 4.85,-1632.5\"/>\r\n<text text-anchor=\"middle\" x=\"31.85\" y=\"-1686.3\" font-family=\"Times New Roman,serif\" font-size=\"14.00\">3^2</text>\r\n<polyline fill=\"none\" stroke=\"black\" points=\"4.85,-1678.5 58.85,-1678.5 \"/>\r\n<text text-anchor=\"middle\" x=\"31.85\" y=\"-1663.3\" font-family=\"Times New Roman,serif\" font-size=\"14.00\">3^3</text>\r\n<polyline fill=\"none\" stroke=\"black\" points=\"4.85,-1655.5 58.85,-1655.5 \"/>\r\n<text text-anchor=\"middle\" x=\"31.85\" y=\"-1640.3\" font-family=\"Times New Roman,serif\" font-size=\"14.00\">3^5</text>\r\n</g>\r\n<!-- 2&#45;&gt;3 -->\r\n<g id=\"edge2\" class=\"edge\">\r\n<title>2&#45;&gt;3</title>\r\n<path fill=\"none\" stroke=\"black\" d=\"M31.85,-1753.49C31.85,-1741.52 31.85,-1726.3 31.85,-1712.01\"/>\r\n<polygon fill=\"black\" stroke=\"black\" points=\"35.35,-1711.84 31.85,-1701.84 28.35,-1711.84 35.35,-1711.84\"/>\r\n<text text-anchor=\"middle\" x=\"45.85\" y=\"-1723.8\" font-family=\"Times New Roman,serif\" font-size=\"14.00\">push</text>\r\n</g>\r\n<!-- 4 -->\r\n<g id=\"node4\" class=\"node\">\r\n<title>4</title>\r\n<polygon fill=\"none\" stroke=\"black\" points=\"4.85,-1488.5 4.85,-1580.5 58.85,-1580.5 58.85,-1488.5 4.85,-1488.5\"/>\r\n<text text-anchor=\"middle\" x=\"31.85\" y=\"-1565.3\" font-family=\"Times New Roman,serif\" font-size=\"14.00\">3^1</text>\r\n<polyline fill=\"none\" stroke=\"black\" points=\"4.85,-1557.5 58.85,-1557.5 \"/>\r\n<text text-anchor=\"middle\" x=\"31.85\" y=\"-1542.3\" font-family=\"Times New Roman,serif\" font-size=\"14.00\">3^2</text>\r\n<polyline fill=\"none\" stroke=\"black\" points=\"4.85,-1534.5 58.85,-1534.5 \"/>\r\n<text text-anchor=\"middle\" x=\"31.85\" y=\"-1519.3\" font-family=\"Times New Roman,serif\" font-size=\"14.00\">3^3</text>\r\n<polyline fill=\"none\" stroke=\"black\" points=\"4.85,-1511.5 58.85,-1511.5 \"/>\r\n<text text-anchor=\"middle\" x=\"31.85\" y=\"-1496.3\" font-family=\"Times New Roman,serif\" font-size=\"14.00\">3^5</text>\r\n</g>\r\n<!-- 3&#45;&gt;4 -->\r\n<g id=\"edge3\" class=\"edge\">\r\n<title>3&#45;&gt;4</title>\r\n<path fill=\"none\" stroke=\"black\" d=\"M31.85,-1632.39C31.85,-1619.75 31.85,-1605.02 31.85,-1590.92\"/>\r\n<polygon fill=\"black\" stroke=\"black\" points=\"35.35,-1590.8 31.85,-1580.8 28.35,-1590.8 35.35,-1590.8\"/>\r\n<text text-anchor=\"middle\" x=\"45.85\" y=\"-1602.8\" font-family=\"Times New Roman,serif\" font-size=\"14.00\">push</text>\r\n</g>\r\n<!-- 5 -->\r\n<g id=\"node5\" class=\"node\">\r\n<title>5</title>\r\n<polygon fill=\"none\" stroke=\"black\" points=\"4.85,-1367.5 4.85,-1436.5 58.85,-1436.5 58.85,-1367.5 4.85,-1367.5\"/>\r\n<text text-anchor=\"middle\" x=\"31.85\" y=\"-1421.3\" font-family=\"Times New Roman,serif\" font-size=\"14.00\">3^2</text>\r\n<polyline fill=\"none\" stroke=\"black\" points=\"4.85,-1413.5 58.85,-1413.5 \"/>\r\n<text text-anchor=\"middle\" x=\"31.85\" y=\"-1398.3\" font-family=\"Times New Roman,serif\" font-size=\"14.00\">3^3</text>\r\n<polyline fill=\"none\" stroke=\"black\" points=\"4.85,-1390.5 58.85,-1390.5 \"/>\r\n<text text-anchor=\"middle\" x=\"31.85\" y=\"-1375.3\" font-family=\"Times New Roman,serif\" font-size=\"14.00\">3^5</text>\r\n</g>\r\n<!-- 4&#45;&gt;5 -->\r\n<g id=\"edge4\" class=\"edge\">\r\n<title>4&#45;&gt;5</title>\r\n<path fill=\"none\" stroke=\"black\" d=\"M31.85,-1488.22C31.85,-1474.86 31.85,-1460.27 31.85,-1446.99\"/>\r\n<polygon fill=\"black\" stroke=\"black\" points=\"35.35,-1446.67 31.85,-1436.67 28.35,-1446.67 35.35,-1446.67\"/>\r\n<text text-anchor=\"middle\" x=\"43.35\" y=\"-1458.8\" font-family=\"Times New Roman,serif\" font-size=\"14.00\">pop</text>\r\n</g>\r\n<!-- 6 -->\r\n<g id=\"node6\" class=\"node\">\r\n<title>6</title>\r\n<polygon fill=\"none\" stroke=\"black\" points=\"4.85,-1223.5 4.85,-1315.5 58.85,-1315.5 58.85,-1223.5 4.85,-1223.5\"/>\r\n<text text-anchor=\"middle\" x=\"31.85\" y=\"-1300.3\" font-family=\"Times New Roman,serif\" font-size=\"14.00\">3^1</text>\r\n<polyline fill=\"none\" stroke=\"black\" points=\"4.85,-1292.5 58.85,-1292.5 \"/>\r\n<text text-anchor=\"middle\" x=\"31.85\" y=\"-1277.3\" font-family=\"Times New Roman,serif\" font-size=\"14.00\">3^2</text>\r\n<polyline fill=\"none\" stroke=\"black\" points=\"4.85,-1269.5 58.85,-1269.5 \"/>\r\n<text text-anchor=\"middle\" x=\"31.85\" y=\"-1254.3\" font-family=\"Times New Roman,serif\" font-size=\"14.00\">3^3</text>\r\n<polyline fill=\"none\" stroke=\"black\" points=\"4.85,-1246.5 58.85,-1246.5 \"/>\r\n<text text-anchor=\"middle\" x=\"31.85\" y=\"-1231.3\" font-family=\"Times New Roman,serif\" font-size=\"14.00\">3^5</text>\r\n</g>\r\n<!-- 5&#45;&gt;6 -->\r\n<g id=\"edge5\" class=\"edge\">\r\n<title>5&#45;&gt;6</title>\r\n<path fill=\"none\" stroke=\"black\" d=\"M31.85,-1367.39C31.85,-1354.75 31.85,-1340.02 31.85,-1325.92\"/>\r\n<polygon fill=\"black\" stroke=\"black\" points=\"35.35,-1325.8 31.85,-1315.8 28.35,-1325.8 35.35,-1325.8\"/>\r\n<text text-anchor=\"middle\" x=\"45.85\" y=\"-1337.8\" font-family=\"Times New Roman,serif\" font-size=\"14.00\">push</text>\r\n</g>\r\n<!-- 7 -->\r\n<g id=\"node7\" class=\"node\">\r\n<title>7</title>\r\n<polygon fill=\"none\" stroke=\"black\" points=\"4.85,-1102.5 4.85,-1171.5 58.85,-1171.5 58.85,-1102.5 4.85,-1102.5\"/>\r\n<text text-anchor=\"middle\" x=\"31.85\" y=\"-1156.3\" font-family=\"Times New Roman,serif\" font-size=\"14.00\">3^2</text>\r\n<polyline fill=\"none\" stroke=\"black\" points=\"4.85,-1148.5 58.85,-1148.5 \"/>\r\n<text text-anchor=\"middle\" x=\"31.85\" y=\"-1133.3\" font-family=\"Times New Roman,serif\" font-size=\"14.00\">3^3</text>\r\n<polyline fill=\"none\" stroke=\"black\" points=\"4.85,-1125.5 58.85,-1125.5 \"/>\r\n<text text-anchor=\"middle\" x=\"31.85\" y=\"-1110.3\" font-family=\"Times New Roman,serif\" font-size=\"14.00\">3^5</text>\r\n</g>\r\n<!-- 6&#45;&gt;7 -->\r\n<g id=\"edge6\" class=\"edge\">\r\n<title>6&#45;&gt;7</title>\r\n<path fill=\"none\" stroke=\"black\" d=\"M31.85,-1223.22C31.85,-1209.86 31.85,-1195.27 31.85,-1181.99\"/>\r\n<polygon fill=\"black\" stroke=\"black\" points=\"35.35,-1181.67 31.85,-1171.67 28.35,-1181.67 35.35,-1181.67\"/>\r\n<text text-anchor=\"middle\" x=\"43.35\" y=\"-1193.8\" font-family=\"Times New Roman,serif\" font-size=\"14.00\">pop</text>\r\n</g>\r\n<!-- 8 -->\r\n<g id=\"node8\" class=\"node\">\r\n<title>8</title>\r\n<polygon fill=\"none\" stroke=\"black\" points=\"4.85,-1004.5 4.85,-1050.5 58.85,-1050.5 58.85,-1004.5 4.85,-1004.5\"/>\r\n<text text-anchor=\"middle\" x=\"31.85\" y=\"-1035.3\" font-family=\"Times New Roman,serif\" font-size=\"14.00\">3^3</text>\r\n<polyline fill=\"none\" stroke=\"black\" points=\"4.85,-1027.5 58.85,-1027.5 \"/>\r\n<text text-anchor=\"middle\" x=\"31.85\" y=\"-1012.3\" font-family=\"Times New Roman,serif\" font-size=\"14.00\">3^5</text>\r\n</g>\r\n<!-- 7&#45;&gt;8 -->\r\n<g id=\"edge7\" class=\"edge\">\r\n<title>7&#45;&gt;8</title>\r\n<path fill=\"none\" stroke=\"black\" d=\"M31.85,-1102.28C31.85,-1088.97 31.85,-1073.74 31.85,-1060.59\"/>\r\n<polygon fill=\"black\" stroke=\"black\" points=\"35.35,-1060.57 31.85,-1050.57 28.35,-1060.57 35.35,-1060.57\"/>\r\n<text text-anchor=\"middle\" x=\"43.35\" y=\"-1072.8\" font-family=\"Times New Roman,serif\" font-size=\"14.00\">pop</text>\r\n</g>\r\n<!-- 9 -->\r\n<g id=\"node9\" class=\"node\">\r\n<title>9</title>\r\n<polygon fill=\"none\" stroke=\"black\" points=\"4.85,-883.5 4.85,-952.5 58.85,-952.5 58.85,-883.5 4.85,-883.5\"/>\r\n<text text-anchor=\"middle\" x=\"31.85\" y=\"-937.3\" font-family=\"Times New Roman,serif\" font-size=\"14.00\">3^1</text>\r\n<polyline fill=\"none\" stroke=\"black\" points=\"4.85,-929.5 58.85,-929.5 \"/>\r\n<text text-anchor=\"middle\" x=\"31.85\" y=\"-914.3\" font-family=\"Times New Roman,serif\" font-size=\"14.00\">3^3</text>\r\n<polyline fill=\"none\" stroke=\"black\" points=\"4.85,-906.5 58.85,-906.5 \"/>\r\n<text text-anchor=\"middle\" x=\"31.85\" y=\"-891.3\" font-family=\"Times New Roman,serif\" font-size=\"14.00\">3^5</text>\r\n</g>\r\n<!-- 8&#45;&gt;9 -->\r\n<g id=\"edge8\" class=\"edge\">\r\n<title>8&#45;&gt;9</title>\r\n<path fill=\"none\" stroke=\"black\" d=\"M31.85,-1004.49C31.85,-992.52 31.85,-977.3 31.85,-963.01\"/>\r\n<polygon fill=\"black\" stroke=\"black\" points=\"35.35,-962.84 31.85,-952.84 28.35,-962.84 35.35,-962.84\"/>\r\n<text text-anchor=\"middle\" x=\"45.85\" y=\"-974.8\" font-family=\"Times New Roman,serif\" font-size=\"14.00\">push</text>\r\n</g>\r\n<!-- 10 -->\r\n<g id=\"node10\" class=\"node\">\r\n<title>10</title>\r\n<polygon fill=\"none\" stroke=\"black\" points=\"4.85,-785.5 4.85,-831.5 58.85,-831.5 58.85,-785.5 4.85,-785.5\"/>\r\n<text text-anchor=\"middle\" x=\"31.85\" y=\"-816.3\" font-family=\"Times New Roman,serif\" font-size=\"14.00\">3^3</text>\r\n<polyline fill=\"none\" stroke=\"black\" points=\"4.85,-808.5 58.85,-808.5 \"/>\r\n<text text-anchor=\"middle\" x=\"31.85\" y=\"-793.3\" font-family=\"Times New Roman,serif\" font-size=\"14.00\">3^5</text>\r\n</g>\r\n<!-- 9&#45;&gt;10 -->\r\n<g id=\"edge9\" class=\"edge\">\r\n<title>9&#45;&gt;10</title>\r\n<path fill=\"none\" stroke=\"black\" d=\"M31.85,-883.28C31.85,-869.97 31.85,-854.74 31.85,-841.59\"/>\r\n<polygon fill=\"black\" stroke=\"black\" points=\"35.35,-841.57 31.85,-831.57 28.35,-841.57 35.35,-841.57\"/>\r\n<text text-anchor=\"middle\" x=\"43.35\" y=\"-853.8\" font-family=\"Times New Roman,serif\" font-size=\"14.00\">pop</text>\r\n</g>\r\n<!-- 11 -->\r\n<g id=\"node11\" class=\"node\">\r\n<title>11</title>\r\n<polygon fill=\"none\" stroke=\"black\" points=\"4.85,-697.5 4.85,-733.5 58.85,-733.5 58.85,-697.5 4.85,-697.5\"/>\r\n<text text-anchor=\"middle\" x=\"31.85\" y=\"-711.8\" font-family=\"Times New Roman,serif\" font-size=\"14.00\">3^5</text>\r\n</g>\r\n<!-- 10&#45;&gt;11 -->\r\n<g id=\"edge10\" class=\"edge\">\r\n<title>10&#45;&gt;11</title>\r\n<path fill=\"none\" stroke=\"black\" d=\"M31.85,-785.47C31.85,-772.94 31.85,-757.13 31.85,-743.81\"/>\r\n<polygon fill=\"black\" stroke=\"black\" points=\"35.35,-743.77 31.85,-733.77 28.35,-743.77 35.35,-743.77\"/>\r\n<text text-anchor=\"middle\" x=\"43.35\" y=\"-755.8\" font-family=\"Times New Roman,serif\" font-size=\"14.00\">pop</text>\r\n</g>\r\n<!-- 12 -->\r\n<g id=\"node12\" class=\"node\">\r\n<title>12</title>\r\n<polygon fill=\"none\" stroke=\"black\" points=\"4.85,-599.5 4.85,-645.5 58.85,-645.5 58.85,-599.5 4.85,-599.5\"/>\r\n<text text-anchor=\"middle\" x=\"31.85\" y=\"-630.3\" font-family=\"Times New Roman,serif\" font-size=\"14.00\">3^2</text>\r\n<polyline fill=\"none\" stroke=\"black\" points=\"4.85,-622.5 58.85,-622.5 \"/>\r\n<text text-anchor=\"middle\" x=\"31.85\" y=\"-607.3\" font-family=\"Times New Roman,serif\" font-size=\"14.00\">3^5</text>\r\n</g>\r\n<!-- 11&#45;&gt;12 -->\r\n<g id=\"edge11\" class=\"edge\">\r\n<title>11&#45;&gt;12</title>\r\n<path fill=\"none\" stroke=\"black\" d=\"M31.85,-697.38C31.85,-685.73 31.85,-669.95 31.85,-655.96\"/>\r\n<polygon fill=\"black\" stroke=\"black\" points=\"35.35,-655.71 31.85,-645.71 28.35,-655.71 35.35,-655.71\"/>\r\n<text text-anchor=\"middle\" x=\"45.85\" y=\"-667.8\" font-family=\"Times New Roman,serif\" font-size=\"14.00\">push</text>\r\n</g>\r\n<!-- 13 -->\r\n<g id=\"node13\" class=\"node\">\r\n<title>13</title>\r\n<polygon fill=\"none\" stroke=\"black\" points=\"4.85,-478.5 4.85,-547.5 58.85,-547.5 58.85,-478.5 4.85,-478.5\"/>\r\n<text text-anchor=\"middle\" x=\"31.85\" y=\"-532.3\" font-family=\"Times New Roman,serif\" font-size=\"14.00\">3^1</text>\r\n<polyline fill=\"none\" stroke=\"black\" points=\"4.85,-524.5 58.85,-524.5 \"/>\r\n<text text-anchor=\"middle\" x=\"31.85\" y=\"-509.3\" font-family=\"Times New Roman,serif\" font-size=\"14.00\">3^2</text>\r\n<polyline fill=\"none\" stroke=\"black\" points=\"4.85,-501.5 58.85,-501.5 \"/>\r\n<text text-anchor=\"middle\" x=\"31.85\" y=\"-486.3\" font-family=\"Times New Roman,serif\" font-size=\"14.00\">3^5</text>\r\n</g>\r\n<!-- 12&#45;&gt;13 -->\r\n<g id=\"edge12\" class=\"edge\">\r\n<title>12&#45;&gt;13</title>\r\n<path fill=\"none\" stroke=\"black\" d=\"M31.85,-599.49C31.85,-587.52 31.85,-572.3 31.85,-558.01\"/>\r\n<polygon fill=\"black\" stroke=\"black\" points=\"35.35,-557.84 31.85,-547.84 28.35,-557.84 35.35,-557.84\"/>\r\n<text text-anchor=\"middle\" x=\"45.85\" y=\"-569.8\" font-family=\"Times New Roman,serif\" font-size=\"14.00\">push</text>\r\n</g>\r\n<!-- 14 -->\r\n<g id=\"node14\" class=\"node\">\r\n<title>14</title>\r\n<polygon fill=\"none\" stroke=\"black\" points=\"4.85,-380.5 4.85,-426.5 58.85,-426.5 58.85,-380.5 4.85,-380.5\"/>\r\n<text text-anchor=\"middle\" x=\"31.85\" y=\"-411.3\" font-family=\"Times New Roman,serif\" font-size=\"14.00\">3^2</text>\r\n<polyline fill=\"none\" stroke=\"black\" points=\"4.85,-403.5 58.85,-403.5 \"/>\r\n<text text-anchor=\"middle\" x=\"31.85\" y=\"-388.3\" font-family=\"Times New Roman,serif\" font-size=\"14.00\">3^5</text>\r\n</g>\r\n<!-- 13&#45;&gt;14 -->\r\n<g id=\"edge13\" class=\"edge\">\r\n<title>13&#45;&gt;14</title>\r\n<path fill=\"none\" stroke=\"black\" d=\"M31.85,-478.28C31.85,-464.97 31.85,-449.74 31.85,-436.59\"/>\r\n<polygon fill=\"black\" stroke=\"black\" points=\"35.35,-436.57 31.85,-426.57 28.35,-436.57 35.35,-436.57\"/>\r\n<text text-anchor=\"middle\" x=\"43.35\" y=\"-448.8\" font-family=\"Times New Roman,serif\" font-size=\"14.00\">pop</text>\r\n</g>\r\n<!-- 15 -->\r\n<g id=\"node15\" class=\"node\">\r\n<title>15</title>\r\n<polygon fill=\"none\" stroke=\"black\" points=\"4.85,-259.5 4.85,-328.5 58.85,-328.5 58.85,-259.5 4.85,-259.5\"/>\r\n<text text-anchor=\"middle\" x=\"31.85\" y=\"-313.3\" font-family=\"Times New Roman,serif\" font-size=\"14.00\">3^1</text>\r\n<polyline fill=\"none\" stroke=\"black\" points=\"4.85,-305.5 58.85,-305.5 \"/>\r\n<text text-anchor=\"middle\" x=\"31.85\" y=\"-290.3\" font-family=\"Times New Roman,serif\" font-size=\"14.00\">3^2</text>\r\n<polyline fill=\"none\" stroke=\"black\" points=\"4.85,-282.5 58.85,-282.5 \"/>\r\n<text text-anchor=\"middle\" x=\"31.85\" y=\"-267.3\" font-family=\"Times New Roman,serif\" font-size=\"14.00\">3^5</text>\r\n</g>\r\n<!-- 14&#45;&gt;15 -->\r\n<g id=\"edge14\" class=\"edge\">\r\n<title>14&#45;&gt;15</title>\r\n<path fill=\"none\" stroke=\"black\" d=\"M31.85,-380.49C31.85,-368.52 31.85,-353.3 31.85,-339.01\"/>\r\n<polygon fill=\"black\" stroke=\"black\" points=\"35.35,-338.84 31.85,-328.84 28.35,-338.84 35.35,-338.84\"/>\r\n<text text-anchor=\"middle\" x=\"45.85\" y=\"-350.8\" font-family=\"Times New Roman,serif\" font-size=\"14.00\">push</text>\r\n</g>\r\n<!-- 16 -->\r\n<g id=\"node16\" class=\"node\">\r\n<title>16</title>\r\n<polygon fill=\"none\" stroke=\"black\" points=\"4.85,-161.5 4.85,-207.5 58.85,-207.5 58.85,-161.5 4.85,-161.5\"/>\r\n<text text-anchor=\"middle\" x=\"31.85\" y=\"-192.3\" font-family=\"Times New Roman,serif\" font-size=\"14.00\">3^2</text>\r\n<polyline fill=\"none\" stroke=\"black\" points=\"4.85,-184.5 58.85,-184.5 \"/>\r\n<text text-anchor=\"middle\" x=\"31.85\" y=\"-169.3\" font-family=\"Times New Roman,serif\" font-size=\"14.00\">3^5</text>\r\n</g>\r\n<!-- 15&#45;&gt;16 -->\r\n<g id=\"edge15\" class=\"edge\">\r\n<title>15&#45;&gt;16</title>\r\n<path fill=\"none\" stroke=\"black\" d=\"M31.85,-259.28C31.85,-245.97 31.85,-230.74 31.85,-217.59\"/>\r\n<polygon fill=\"black\" stroke=\"black\" points=\"35.35,-217.57 31.85,-207.57 28.35,-217.57 35.35,-217.57\"/>\r\n<text text-anchor=\"middle\" x=\"43.35\" y=\"-229.8\" font-family=\"Times New Roman,serif\" font-size=\"14.00\">pop</text>\r\n</g>\r\n<!-- 17 -->\r\n<g id=\"node17\" class=\"node\">\r\n<title>17</title>\r\n<polygon fill=\"none\" stroke=\"black\" points=\"4.85,-73.5 4.85,-109.5 58.85,-109.5 58.85,-73.5 4.85,-73.5\"/>\r\n<text text-anchor=\"middle\" x=\"31.85\" y=\"-87.8\" font-family=\"Times New Roman,serif\" font-size=\"14.00\">3^5</text>\r\n</g>\r\n<!-- 16&#45;&gt;17 -->\r\n<g id=\"edge16\" class=\"edge\">\r\n<title>16&#45;&gt;17</title>\r\n<path fill=\"none\" stroke=\"black\" d=\"M31.85,-161.47C31.85,-148.94 31.85,-133.13 31.85,-119.81\"/>\r\n<polygon fill=\"black\" stroke=\"black\" points=\"35.35,-119.77 31.85,-109.77 28.35,-119.77 35.35,-119.77\"/>\r\n<text text-anchor=\"middle\" x=\"43.35\" y=\"-131.8\" font-family=\"Times New Roman,serif\" font-size=\"14.00\">pop</text>\r\n</g>\r\n<!-- return -->\r\n<g id=\"node18\" class=\"node\">\r\n<title>return</title>\r\n<ellipse fill=\"none\" stroke=\"black\" cx=\"31.85\" cy=\"-18\" rx=\"31.7\" ry=\"18\"/>\r\n<text text-anchor=\"middle\" x=\"31.85\" y=\"-14.3\" font-family=\"Times New Roman,serif\" font-size=\"14.00\">return</text>\r\n</g>\r\n<!-- 17&#45;&gt;return -->\r\n<g id=\"edge17\" class=\"edge\">\r\n<title>17&#45;&gt;return</title>\r\n<path fill=\"none\" stroke=\"black\" d=\"M31.85,-73.19C31.85,-65.11 31.85,-55.3 31.85,-46.26\"/>\r\n<polygon fill=\"black\" stroke=\"black\" points=\"35.35,-46.15 31.85,-36.15 28.35,-46.15 35.35,-46.15\"/>\r\n</g>\r\n</g>\r\n</svg>\r\n"
     },
     "metadata": {}
    }
   ],
   "source": [
    "dot = Digraph()\n",
    "\n",
    "dot.node('1', \"3^5\",shape='record')\n",
    "dot.node('2', \"{3^3 | 3^5}\",shape='record')\n",
    "dot.node('3', \"{3^2 |3^3 | 3^5}\",shape='record')\n",
    "dot.node('4', \"{3^1 |3^2 |3^3 | 3^5}\",shape='record')\n",
    "dot.node('5', \"{3^2 |3^3 | 3^5}\",shape='record')\n",
    "dot.node('6', \"{3^1 |3^2 |3^3 | 3^5}\",shape='record')\n",
    "dot.node('7', \"{3^2 |3^3 | 3^5}\",shape='record')\n",
    "dot.node('8', \"{3^3 | 3^5}\",shape='record')\n",
    "dot.node('9', \"{3^1 |3^3 | 3^5}\",shape='record')\n",
    "dot.node('10', \"{3^3 | 3^5}\",shape='record')\n",
    "dot.node('11', \"3^5\",shape='record')\n",
    "dot.node('12', \"{3^2 | 3^5}\",shape='record')\n",
    "dot.node('13', \"{3^1 | 3^2 | 3^5}\",shape='record')\n",
    "dot.node('14', \"{3^2 | 3^5}\",shape='record')\n",
    "dot.node('15', \"{3^1 | 3^2 | 3^5}\",shape='record')\n",
    "dot.node('16', \"{3^2 | 3^5}\",shape='record')\n",
    "dot.node('17', \"{3^5}\",shape='record')\n",
    "\n",
    "dot.node(\"return\")\n",
    "\n",
    "dot.edge('1','2',label=\"push\")\n",
    "dot.edge('2','3',label=\"push\")\n",
    "dot.edge('3','4',label=\"push\")\n",
    "dot.edge('4','5',label=\"pop\")\n",
    "dot.edge('5','6',label=\"push\")\n",
    "dot.edge('6','7',label=\"pop\")\n",
    "dot.edge('7','8',label=\"pop\")\n",
    "dot.edge('8','9',label=\"push\")\n",
    "dot.edge('9','10',label=\"pop\")\n",
    "dot.edge('10','11',label=\"pop\")\n",
    "dot.edge('11','12',label=\"push\")\n",
    "dot.edge('12','13',label=\"push\")\n",
    "dot.edge('13','14',label=\"pop\")\n",
    "dot.edge('14','15',label=\"push\")\n",
    "dot.edge('15','16',label=\"pop\")\n",
    "dot.edge('16','17',label=\"pop\")\n",
    "\n",
    "dot.edge('17','return')\n",
    "\n",
    "\n",
    "display(dot)"
   ]
  },
  {
   "cell_type": "markdown",
   "metadata": {},
   "source": [
    "The stack will only get as deep as the deepest leaf in both trees -- the Divide and Conquer and the Decrease-by-1-and-Conquer.\n",
    "- The Decrease-by-1-and-Conquer necessarily has $O(n)$, linear height.\n",
    "- The Divide and Conquer will be approximately $O(log_2 n)$ in height because \n",
    "    - The subproblems are approximately half the size of the original problem, recursively.\n",
    "    - (in single-threaded code) Only one subproblem needs to be explored at a time, again recursively."
   ]
  },
  {
   "cell_type": "markdown",
   "metadata": {},
   "source": [
    "But, that's not really the interesting part about this. There is something that will make a dramatic difference:\n",
    "\n",
    "> There are repeated subproblems.\n",
    "\n",
    "e.g. $3^{101}$ is $3^{101}$ no matter how you calculate it so one *could* remember the solutions. \n",
    "\n",
    "There is another, probably new to you, technique called **memoization**, which can be used for certain strategies like Dynamic Programming.\n",
    "\n",
    "So, somewhat absurdly, we're going to use a Hash Table which has *average*, expected time (under reasonable assumptions) \n",
    "- $O(1)$ insertions, per insertion\n",
    "- $O(1)$ lookup/search, per search\n",
    "- $O(1)$ deletion, though we won't use that here\n",
    "- A hash table is a common *implementation* of the Dictionary *Abstract Data Type (ADT)*.\n",
    "\n",
    "This is \"absurd\" because this is \n",
    "1. massive overkill for this problem\n",
    "1. exponention for any numbers not really close to $1$ will likely overflow or vanish unless using arbitrary precision numbers"
   ]
  },
  {
   "cell_type": "code",
   "execution_count": null,
   "metadata": {},
   "outputs": [],
   "source": [
    "def memoized_exponentiation(a, p):\n",
    "    \"\"\"\n",
    "    memoized approach to exponentiation\n",
    "    a -- the number being raised to a power\n",
    "    p -- the non-negative, integral power a is being raised to\n",
    "    \"\"\"\n",
    "    pows = {}\n",
    "    #insert base cases\n",
    "    pows[0] = 1\n",
    "    pows[1] = a\n",
    "\n",
    "    def m_e_helper(a,p):\n",
    "        \"\"\"\n",
    "        helper, inner/nested function\n",
    "        uses divide an conquer approach but looks up to see if previous values have been calculated\n",
    "        a -- the number being raised to a power\n",
    "        p -- the non-negative, integral power a is being raised to\n",
    "        \"\"\"\n",
    "        if p in pows:\n",
    "            print_no_nl(str(a)+\"^\"+str(p))\n",
    "            return pows[p]\n",
    "        elif p > 1:\n",
    "            print_no_nl(\"(\")\n",
    "            a_to_ceiling_half_p = m_e_helper(a,math.ceil(p/2))\n",
    "            print_no_nl(\")*(\")\n",
    "            a_to_floor_half_p = m_e_helper(a,math.floor(p/2))\n",
    "            print_no_nl(\")\")\n",
    "            power = a_to_ceiling_half_p * a_to_floor_half_p\n",
    "            pows[p] = power #remember/store the solution\n",
    "            return power\n",
    "        else:         \n",
    "            raise Exception(\"p must be integral and nonnegative\")\n",
    "    return m_e_helper( a, p)\n"
   ]
  },
  {
   "cell_type": "code",
   "execution_count": null,
   "metadata": {},
   "outputs": [],
   "source": [
    "memoized_exponentiation(3,4)"
   ]
  },
  {
   "cell_type": "code",
   "execution_count": null,
   "metadata": {},
   "outputs": [],
   "source": [
    "memoized_exponentiation(3,16)"
   ]
  },
  {
   "cell_type": "code",
   "execution_count": null,
   "metadata": {},
   "outputs": [],
   "source": [
    "memoized_exponentiation(3,25)"
   ]
  },
  {
   "cell_type": "markdown",
   "metadata": {},
   "source": [
    "For comparison:"
   ]
  },
  {
   "cell_type": "code",
   "execution_count": null,
   "metadata": {},
   "outputs": [],
   "source": [
    "divide_and_conq_exponentiation(3,25)"
   ]
  },
  {
   "cell_type": "markdown",
   "metadata": {},
   "source": [
    "Wonder what the worst case is? Something like \n",
    "\n",
    "$p = (((((1+2)+4)+8)+16)+32)$\n",
    "\n",
    "perhaps?\n"
   ]
  },
  {
   "cell_type": "code",
   "execution_count": null,
   "metadata": {},
   "outputs": [],
   "source": [
    "memoized_exponentiation(3,63)"
   ]
  },
  {
   "cell_type": "code",
   "execution_count": null,
   "metadata": {},
   "outputs": [],
   "source": [
    "memoized_exponentiation(3,64)"
   ]
  },
  {
   "cell_type": "markdown",
   "metadata": {},
   "source": [
    "We finally got some sort of *time* gains for this problem at the expense of a memory space, though I think the analysis is too tricky for now.\n",
    "\n",
    "This is also an example of a space-time tradeoff -- we can fairly often gain something by precomputing or remembering *something* to solve a problem. "
   ]
  },
  {
   "cell_type": "markdown",
   "metadata": {},
   "source": [
    "We can keep tearing at this problem and notice one more thing, probably from the Divide and Conquer approach, but maybe from the memoized approach as well:\n",
    "\n",
    "> The subproblems for odd number problem powers differ exactly by the factor $a$, the base/number being exponentiated, while even power solutions to subproblems are the same."
   ]
  },
  {
   "cell_type": "markdown",
   "metadata": {},
   "source": [
    "## Decrease-by-a-Constant-*Factor*-and-Conquer Approach\n",
    "The factor here is $2$, halving the problem size. \n",
    "\n",
    "We will write it similarly, in a general piecewise function form like Divide and Conquer, above:\n",
    "\n",
    "$a^p = \\begin{cases} a\\times (a^{\\lfloor \\frac{p}{2} \\rfloor})^2 & p>1\\text{ and p is odd} \\\\ a\\times (a^{ \\frac{p}{2} })^2 & p>1\\text{ and p is even} \\\\ a & p =1 \\\\ 1 &p =0 \\end{cases} $"
   ]
  },
  {
   "cell_type": "code",
   "execution_count": null,
   "metadata": {},
   "outputs": [],
   "source": [
    "def dec_by_half_exponentiation(a,p):\n",
    "    \"\"\"\n",
    "    Decrease by a HALF approach to exponentiation\n",
    "    a -- the number being raised to a power\n",
    "    p -- the non-negative, integral power a is being raised to\n",
    "    \"\"\"\n",
    "    if p > 1 and p%2 == 0:\n",
    "        print_no_nl(\"(\")\n",
    "        a_to_half_p = dec_by_half_exponentiation(a,p//2) # // is integral division, / is floating point\n",
    "        print_no_nl(\")^2\")\n",
    "        return a_to_half_p * a_to_half_p\n",
    "    if p > 1 and p%2 == 1:\n",
    "        print_no_nl(\"a*(\")\n",
    "        a_to_half_p = dec_by_half_exponentiation(a,p//2) # // is integral division, / is floating point\n",
    "        print_no_nl(\")^2\")\n",
    "        return a*a_to_half_p * a_to_half_p\n",
    "    elif p == 1:\n",
    "        print_no_nl(a)\n",
    "        return a\n",
    "    elif p == 0:\n",
    "        print_no_nl(1)\n",
    "        return 1\n",
    "    else:         \n",
    "        raise Exception(\"p must be integral and nonnegative\")"
   ]
  },
  {
   "cell_type": "code",
   "execution_count": null,
   "metadata": {},
   "outputs": [],
   "source": [
    "dec_by_half_exponentiation(3,4)"
   ]
  },
  {
   "cell_type": "code",
   "execution_count": null,
   "metadata": {},
   "outputs": [],
   "source": [
    "dec_by_half_exponentiation(3,101)"
   ]
  },
  {
   "cell_type": "markdown",
   "metadata": {},
   "source": [
    "Note: Squaring is just a single multiply\n",
    "Also Note: Python 3 does arbitrary precision integers."
   ]
  },
  {
   "cell_type": "code",
   "execution_count": null,
   "metadata": {},
   "outputs": [],
   "source": [
    "dec_by_half_exponentiation(3,63)"
   ]
  },
  {
   "cell_type": "markdown",
   "metadata": {},
   "source": [
    "Which suggests a worst case: any power of two minus $1$, often written as\n",
    "\n",
    "$n = 2^k-1, k \\in \\mathbb{N}$"
   ]
  },
  {
   "cell_type": "markdown",
   "metadata": {},
   "source": [
    "There are other approaches too. If you think of the binary representation of a number such as \n",
    "\n",
    "$27_{10}$\n",
    "\n",
    "the number string \"27\" in base-10 as \n",
    "\n",
    "$11011_2$\n",
    "\n",
    "and if you were paying attention in grade school and understand __[positional notation](https://en.wikipedia.org/wiki/Positional_notation)__ then you get that\n",
    "\n",
    "$27_{10}= 2*10^1+7*10^0$\n",
    "\n",
    "or, in binary\n",
    "\n",
    "$11011_2 = 1\\times2^4+1\\times2^3+0\\times2^2+1\\times2^1+1\\times2^0$\n",
    "\n",
    "you might, after figuring out that, e.g.,\n",
    "\n",
    "$4^{27}=4^{16+8+2+1}=4^{16}\\times4^8\\times4^2\\times4^1$\n",
    "\n",
    "come up with"
   ]
  },
  {
   "cell_type": "code",
   "execution_count": null,
   "metadata": {},
   "outputs": [],
   "source": [
    "def binary_repr_exponentiation(a,p):\n",
    "    if p <= 0 or type(p) is not int:\n",
    "        raise Exception(\"p must be int and nonnegative\")\n",
    "    if p == 0:\n",
    "        return 1\n",
    "    if a == 0:\n",
    "        return 0  # 0^0 is an odd case...\n",
    "    acc = 1\n",
    "    print_no_nl(acc)\n",
    "    p_pow = a\n",
    "    while p > 0:\n",
    "        if p%2 == 1:\n",
    "            acc *= p_pow\n",
    "            print_no_nl('*'+str(p_pow))\n",
    "        p_pow *= p_pow # square to get next binary power (ones,twos,fours,eights,...-places)\n",
    "        p = p//2\n",
    "    return acc"
   ]
  },
  {
   "cell_type": "code",
   "execution_count": null,
   "metadata": {},
   "outputs": [],
   "source": [
    "binary_repr_exponentiation(3,4)"
   ]
  },
  {
   "cell_type": "code",
   "execution_count": null,
   "metadata": {},
   "outputs": [],
   "source": [
    "binary_repr_exponentiation(3,3)"
   ]
  },
  {
   "cell_type": "code",
   "execution_count": null,
   "metadata": {},
   "outputs": [],
   "source": [
    "binary_repr_exponentiation(3,7)"
   ]
  },
  {
   "cell_type": "code",
   "execution_count": null,
   "metadata": {},
   "outputs": [],
   "source": [
    "binary_repr_exponentiation(3,8)"
   ]
  },
  {
   "cell_type": "code",
   "execution_count": null,
   "metadata": {},
   "outputs": [],
   "source": [
    "math.pow(3,8)"
   ]
  },
  {
   "cell_type": "markdown",
   "metadata": {},
   "source": [
    "One could even build a table and quickly compute powers for a given base $a$..."
   ]
  },
  {
   "cell_type": "code",
   "execution_count": null,
   "metadata": {},
   "outputs": [],
   "source": []
  },
  {
   "cell_type": "code",
   "execution_count": null,
   "metadata": {},
   "outputs": [],
   "source": []
  }
 ],
 "metadata": {
  "kernelspec": {
   "name": "python3",
   "display_name": "Python 3.9.1 64-bit",
   "metadata": {
    "interpreter": {
     "hash": "013e24a61daa445050d0972edf6f8228f4b6ca744b06bc1d4b3b842e2f05acce"
    }
   }
  },
  "language_info": {
   "codemirror_mode": {
    "name": "ipython",
    "version": 3
   },
   "file_extension": ".py",
   "mimetype": "text/x-python",
   "name": "python",
   "nbconvert_exporter": "python",
   "pygments_lexer": "ipython3",
   "version": "3.9.1-final"
  }
 },
 "nbformat": 4,
 "nbformat_minor": 2
}